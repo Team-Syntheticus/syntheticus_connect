{
 "cells": [
  {
   "cell_type": "code",
   "execution_count": 1,
   "metadata": {},
   "outputs": [],
   "source": [
    "from SyntheticusConnect.syntheticusapi import SyntheticusConnect\n",
    "\n",
    "client = SyntheticusConnect(host=\"http://34.65.93.97\")"
   ]
  },
  {
   "cell_type": "code",
   "execution_count": 2,
   "metadata": {},
   "outputs": [
    {
     "data": {
      "text/plain": [
       "'Login successful.'"
      ]
     },
     "execution_count": 2,
     "metadata": {},
     "output_type": "execute_result"
    }
   ],
   "source": [
    "client.login(username=\"vale\", password=\"testpwd123\")"
   ]
  },
  {
   "cell_type": "code",
   "execution_count": 3,
   "metadata": {},
   "outputs": [
    {
     "name": "stdout",
     "output_type": "stream",
     "text": [
      "User details:\n",
      "Username: vale\n",
      "Name: \n",
      "URL: http://34.65.93.97:8000/api/users/1/\n",
      "--------------------\n"
     ]
    }
   ],
   "source": [
    "client.get_me()"
   ]
  },
  {
   "cell_type": "code",
   "execution_count": 4,
   "metadata": {},
   "outputs": [
    {
     "name": "stdout",
     "output_type": "stream",
     "text": [
      "Project created:\n",
      "ID: 6def4aa5-1b75-4edb-942f-dad4d1ed318f\n",
      "Name: test_project\n",
      "Created at: 2023-06-26T15:03:55+0000\n",
      "--------------------\n"
     ]
    }
   ],
   "source": [
    "client.create_project(\"test_project\")"
   ]
  },
  {
   "cell_type": "code",
   "execution_count": 11,
   "metadata": {},
   "outputs": [
    {
     "name": "stdout",
     "output_type": "stream",
     "text": [
      "Projects:\n",
      "ID: ecfaa7e8-4af2-404d-8e07-d0ac236957cd\n",
      "Name: Project1\n",
      "Created at: 2023-06-26T09:42:40+0000\n",
      "--------------------\n",
      "ID: 27bfc328-527b-4081-940f-491e0d3aad01\n",
      "Name: testproject\n",
      "Created at: 2023-06-26T13:56:23+0000\n",
      "--------------------\n",
      "ID: 34e7aee1-443d-468a-a3a4-3fd2b6207435\n",
      "Name: testproject\n",
      "Created at: 2023-06-26T13:58:12+0000\n",
      "--------------------\n",
      "ID: 4b7b73c5-2d0c-4c8b-a59a-dc9af18d9e62\n",
      "Name: test_project\n",
      "Created at: 2023-06-26T14:12:13+0000\n",
      "--------------------\n",
      "ID: 6def4aa5-1b75-4edb-942f-dad4d1ed318f\n",
      "Name: test_project\n",
      "Created at: 2023-06-26T15:03:55+0000\n",
      "--------------------\n"
     ]
    }
   ],
   "source": [
    "client.get_projects()"
   ]
  },
  {
   "cell_type": "code",
   "execution_count": 13,
   "metadata": {},
   "outputs": [
    {
     "data": {
      "text/plain": [
       "{'count': 0, 'next': None, 'previous': None, 'results': []}"
      ]
     },
     "execution_count": 13,
     "metadata": {},
     "output_type": "execute_result"
    }
   ],
   "source": [
    "client.list_dataset_folders('4b7b73c5-2d0c-4c8b-a59a-dc9af18d9e62')"
   ]
  },
  {
   "cell_type": "code",
   "execution_count": 7,
   "metadata": {},
   "outputs": [
    {
     "data": {
      "text/plain": [
       "'Error deleting project.'"
      ]
     },
     "execution_count": 7,
     "metadata": {},
     "output_type": "execute_result"
    }
   ],
   "source": [
    "client.delete_project('94139d91-624d-4bca-a454-58b4eec20df3')"
   ]
  },
  {
   "cell_type": "code",
   "execution_count": 6,
   "metadata": {},
   "outputs": [
    {
     "name": "stdout",
     "output_type": "stream",
     "text": [
      "Error fetching models. 401\n"
     ]
    }
   ],
   "source": [
    "client.list_models()"
   ]
  },
  {
   "cell_type": "code",
   "execution_count": 10,
   "metadata": {},
   "outputs": [
    {
     "name": "stdout",
     "output_type": "stream",
     "text": [
      "Error uploading data. Status code: 401\n"
     ]
    }
   ],
   "source": [
    "project_id = \"4b7b73c5-2d0c-4c8b-a59a-dc9af18d9e62\"\n",
    "file_path = \"C:/Users/mazzo/Documents/SyntheticusConnect/dataset/iris.csv\"\n",
    "data_set_folder_name = \"iris\"\n",
    "client.upload_data(project_id, file_path, data_set_folder_name)"
   ]
  }
 ],
 "metadata": {
  "kernelspec": {
   "display_name": "base",
   "language": "python",
   "name": "python3"
  },
  "language_info": {
   "codemirror_mode": {
    "name": "ipython",
    "version": 3
   },
   "file_extension": ".py",
   "mimetype": "text/x-python",
   "name": "python",
   "nbconvert_exporter": "python",
   "pygments_lexer": "ipython3",
   "version": "3.10.10"
  },
  "orig_nbformat": 4
 },
 "nbformat": 4,
 "nbformat_minor": 2
}
