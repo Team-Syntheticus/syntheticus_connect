{
 "cells": [
  {
   "cell_type": "code",
   "execution_count": 1,
   "metadata": {},
   "outputs": [],
   "source": [
    "from syntheticusConnect.syntheticusapi import SyntheticusConnect\n",
    "\n",
    "client = SyntheticusConnect(host=\"http://34.65.93.97\")"
   ]
  },
  {
   "cell_type": "code",
   "execution_count": 2,
   "metadata": {},
   "outputs": [
    {
     "data": {
      "text/plain": [
       "'Login successful.'"
      ]
     },
     "execution_count": 2,
     "metadata": {},
     "output_type": "execute_result"
    }
   ],
   "source": [
    "client.login(username=\"vale\", password=\"testpwd123\")"
   ]
  },
  {
   "cell_type": "code",
   "execution_count": 3,
   "metadata": {},
   "outputs": [
    {
     "name": "stdout",
     "output_type": "stream",
     "text": [
      "User details:\n",
      "Username: vale\n",
      "Name: \n",
      "URL: http://34.65.93.97:8000/api/users/1/\n",
      "--------------------\n"
     ]
    }
   ],
   "source": [
    "client.get_me()"
   ]
  },
  {
   "cell_type": "code",
   "execution_count": 4,
   "metadata": {},
   "outputs": [
    {
     "name": "stdout",
     "output_type": "stream",
     "text": [
      "Error creating the project.\n"
     ]
    }
   ],
   "source": [
    "client.create_project(\"test_project\")"
   ]
  },
  {
   "cell_type": "code",
   "execution_count": 5,
   "metadata": {},
   "outputs": [
    {
     "name": "stdout",
     "output_type": "stream",
     "text": [
      "Projects:\n",
      "+--------------------------------------+--------------+--------------------------+\n",
      "|              Project ID              | Project Name |        Created At        |\n",
      "+--------------------------------------+--------------+--------------------------+\n",
      "| ecfaa7e8-4af2-404d-8e07-d0ac236957cd |   Project1   | 2023-06-26T09:42:40+0000 |\n",
      "| 27bfc328-527b-4081-940f-491e0d3aad01 | testproject  | 2023-06-26T13:56:23+0000 |\n",
      "| 34e7aee1-443d-468a-a3a4-3fd2b6207435 | testproject  | 2023-06-26T13:58:12+0000 |\n",
      "| 4b7b73c5-2d0c-4c8b-a59a-dc9af18d9e62 | test_project | 2023-06-26T14:12:13+0000 |\n",
      "| 78743e48-6b6d-4d5b-9300-52be95ca2025 | test_project | 2023-06-27T09:38:59+0000 |\n",
      "+--------------------------------------+--------------+--------------------------+\n"
     ]
    }
   ],
   "source": [
    "client.get_projects()"
   ]
  },
  {
   "cell_type": "code",
   "execution_count": 9,
   "metadata": {},
   "outputs": [
    {
     "name": "stdout",
     "output_type": "stream",
     "text": [
      "+--------------+--------------------------------------+--------------------------------------+\n",
      "| Dataset Name |              Dataset ID              |              Project ID              |\n",
      "+--------------+--------------------------------------+--------------------------------------+\n",
      "|   iris_new   | 9ef37d77-c2eb-42c0-a2c7-c4463fc292dd | 4b7b73c5-2d0c-4c8b-a59a-dc9af18d9e62 |\n",
      "|   iris_new   | 094ef29e-cd94-4945-b473-28cf03bc960f | 4b7b73c5-2d0c-4c8b-a59a-dc9af18d9e62 |\n",
      "+--------------+--------------------------------------+--------------------------------------+\n"
     ]
    }
   ],
   "source": [
    "client.get_datasets('4b7b73c5-2d0c-4c8b-a59a-dc9af18d9e62')"
   ]
  },
  {
   "cell_type": "code",
   "execution_count": 6,
   "metadata": {},
   "outputs": [
    {
     "data": {
      "text/plain": [
       "'Error deleting project.'"
      ]
     },
     "execution_count": 6,
     "metadata": {},
     "output_type": "execute_result"
    }
   ],
   "source": [
    "client.delete_project('6def4aa5-1b75-4edb-942f-dad4d1ed318f')"
   ]
  },
  {
   "cell_type": "code",
   "execution_count": 8,
   "metadata": {},
   "outputs": [
    {
     "name": "stdout",
     "output_type": "stream",
     "text": [
      "{\"message\":\"Start data uploading\"}\n"
     ]
    }
   ],
   "source": [
    "project_id = \"4b7b73c5-2d0c-4c8b-a59a-dc9af18d9e62\"\n",
    "file_path = \"C:/Users/mazzo/Documents/SyntheticusConnect/dataset/iris.csv\"\n",
    "data_set_folder_name = \"iris\"\n",
    "client.upload_data(project_id, file_path, data_set_folder_name)"
   ]
  },
  {
   "cell_type": "code",
   "execution_count": 7,
   "metadata": {},
   "outputs": [
    {
     "name": "stdout",
     "output_type": "stream",
     "text": [
      "No models available.\n"
     ]
    }
   ],
   "source": [
    "client.list_models()"
   ]
  },
  {
   "cell_type": "code",
   "execution_count": null,
   "metadata": {},
   "outputs": [],
   "source": []
  }
 ],
 "metadata": {
  "kernelspec": {
   "display_name": "base",
   "language": "python",
   "name": "python3"
  },
  "language_info": {
   "codemirror_mode": {
    "name": "ipython",
    "version": 3
   },
   "file_extension": ".py",
   "mimetype": "text/x-python",
   "name": "python",
   "nbconvert_exporter": "python",
   "pygments_lexer": "ipython3",
   "version": "3.10.10"
  },
  "orig_nbformat": 4
 },
 "nbformat": 4,
 "nbformat_minor": 2
}
