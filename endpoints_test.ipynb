{
 "cells": [
  {
   "cell_type": "code",
   "execution_count": 7,
   "metadata": {},
   "outputs": [
    {
     "name": "stdout",
     "output_type": "stream",
     "text": [
      "Status Code: 201\n",
      "Response Body: {'key': '9692d7b2c5444f9047b2d91617de13b91e74320d'}\n"
     ]
    }
   ],
   "source": [
    "import requests\n",
    "import json\n",
    "\n",
    "# Replace this with your actual value\n",
    "host = \"http://34.65.93.97:8000\"\n",
    "\n",
    "# Create the URL\n",
    "url = f\"{host}/dj-rest-auth/registration/\"\n",
    "\n",
    "# Define the body of the POST request\n",
    "body = {\n",
    "  \"username\": \"vale\",\n",
    "  \"email\": \"valerio.mazzone@syntheticus.ai\",\n",
    "  \"password1\": \"valerio123\",\n",
    "  \"password2\": \"valerio123\"\n",
    "}\n",
    "\n",
    "# Make the POST request\n",
    "response = requests.post(url, data=json.dumps(body), headers={'Content-Type': 'application/json'})\n",
    "\n",
    "# Print the status code and the response body\n",
    "print(\"Status Code:\", response.status_code)\n",
    "print(\"Response Body:\", response.json())\n"
   ]
  },
  {
   "cell_type": "code",
   "execution_count": 17,
   "metadata": {},
   "outputs": [],
   "source": [
    "token = '9692d7b2c5444f9047b2d91617de13b91e74320d'"
   ]
  },
  {
   "cell_type": "code",
   "execution_count": 24,
   "metadata": {},
   "outputs": [
    {
     "name": "stdout",
     "output_type": "stream",
     "text": [
      "Status Code: 200\n",
      "Response Body: {'key': '9692d7b2c5444f9047b2d91617de13b91e74320d'}\n"
     ]
    }
   ],
   "source": [
    "# Create the URL\n",
    "url = f\"{host}/dj-rest-auth/login/\"\n",
    "\n",
    "# Define the body of the POST request\n",
    "body = {\n",
    "  \"username\": \"vale\",\n",
    "  \"password\": \"testpwd123\"\n",
    "}\n",
    "\n",
    "# Make the POST request\n",
    "response = requests.post(url, data=json.dumps(body), headers={'Content-Type': 'application/json'})\n",
    "\n",
    "# Print the status code and the response body\n",
    "print(\"Status Code:\", response.status_code)\n",
    "print(\"Response Body:\", response.json())"
   ]
  },
  {
   "cell_type": "code",
   "execution_count": 23,
   "metadata": {},
   "outputs": [
    {
     "name": "stdout",
     "output_type": "stream",
     "text": [
      "Status Code: 200\n",
      "Response Body: {\"detail\":\"Successfully logged out.\"}\n"
     ]
    }
   ],
   "source": [
    "# Create the URL\n",
    "url = f\"{host}/dj-rest-auth/logout/\"\n",
    "\n",
    "# Make the POST request\n",
    "response = requests.post(url)\n",
    "\n",
    "# Print the status code and the response body\n",
    "print(\"Status Code:\", response.status_code)\n",
    "print(\"Response Body:\", response.text)"
   ]
  },
  {
   "cell_type": "code",
   "execution_count": 19,
   "metadata": {},
   "outputs": [
    {
     "name": "stdout",
     "output_type": "stream",
     "text": [
      "Status Code: 200\n",
      "Response Body: {'detail': 'New password has been saved.'}\n"
     ]
    }
   ],
   "source": [
    "# Create the URL\n",
    "url = f\"{host}/dj-rest-auth/password/change/\"\n",
    "\n",
    "# Define the headers for the request\n",
    "headers = {\n",
    "    'Authorization': f'Token {token}',\n",
    "    'Content-Type': 'application/json'\n",
    "}\n",
    "\n",
    "# Define the body of the POST request\n",
    "body = {\n",
    "  \"new_password1\": \"testpwd123\",\n",
    "  \"new_password2\": \"testpwd123\"\n",
    "}\n",
    "\n",
    "# Make the POST request\n",
    "response = requests.post(url, data=json.dumps(body), headers=headers)\n",
    "\n",
    "# Print the status code and the response body\n",
    "print(\"Status Code:\", response.status_code)\n",
    "print(\"Response Body:\", response.json())"
   ]
  },
  {
   "cell_type": "code",
   "execution_count": 25,
   "metadata": {},
   "outputs": [
    {
     "name": "stdout",
     "output_type": "stream",
     "text": [
      "Status Code: 404\n",
      "Response Body: {\"detail\":\"Not found.\"}\n"
     ]
    }
   ],
   "source": [
    "import requests\n",
    "\n",
    "# Replace these with your actual values\n",
    "user_id = \"vale\"\n",
    "\n",
    "# Define the headers for the request\n",
    "headers = {\n",
    "    'Authorization': f'Token {token}',\n",
    "}\n",
    "\n",
    "# Create the URL\n",
    "url = f\"{host}/api/users/{user_id}/\"\n",
    "\n",
    "# Make the GET request\n",
    "response = requests.get(url, headers=headers)\n",
    "\n",
    "# Print the status code and the response body\n",
    "print(\"Status Code:\", response.status_code)\n",
    "print(\"Response Body:\", response.text)"
   ]
  },
  {
   "cell_type": "code",
   "execution_count": 26,
   "metadata": {},
   "outputs": [
    {
     "name": "stdout",
     "output_type": "stream",
     "text": [
      "Status Code: 200\n",
      "Response Body: {'username': 'vale', 'name': '', 'url': 'http://34.65.93.97:8000/api/users/1/'}\n"
     ]
    }
   ],
   "source": [
    "url = f\"{host}/api/users/me/\"\n",
    "\n",
    "# Define the headers for the request\n",
    "headers = {\n",
    "    'Authorization': f'Token {token}',\n",
    "}\n",
    "\n",
    "# Make the GET request\n",
    "response = requests.get(url, headers=headers)\n",
    "\n",
    "# Print the status code and the response body\n",
    "print(\"Status Code:\", response.status_code)\n",
    "print(\"Response Body:\", response.json())"
   ]
  },
  {
   "cell_type": "code",
   "execution_count": 33,
   "metadata": {},
   "outputs": [
    {
     "name": "stdout",
     "output_type": "stream",
     "text": [
      "Status Code: 201\n",
      "Response Body: {'id': '5ddb64aa-92e0-4594-9da8-d1159e6c7842', 'name': 'Project1', 'created_at': '2023-06-26T09:30:34+0000'}\n"
     ]
    }
   ],
   "source": [
    "# Create the URL\n",
    "url = f\"{host}/api/projects/\"\n",
    "\n",
    "# Define the body of the POST request\n",
    "body = {\n",
    "    \"name\": \"Project1\"\n",
    "}\n",
    "\n",
    "# Define the headers for the request\n",
    "headers = {\n",
    "    'Authorization': f'Token {token}',\n",
    "    'Content-Type': 'application/json'\n",
    "}\n",
    "\n",
    "# Make the POST request\n",
    "response = requests.post(url, data=json.dumps(body), headers=headers)\n",
    "\n",
    "# Print the status code and the response body\n",
    "print(\"Status Code:\", response.status_code)\n",
    "print(\"Response Body:\", response.json())"
   ]
  },
  {
   "cell_type": "code",
   "execution_count": 35,
   "metadata": {},
   "outputs": [
    {
     "name": "stdout",
     "output_type": "stream",
     "text": [
      "Status Code: 200\n",
      "Response Body: {'count': 0, 'next': None, 'previous': None, 'results': []}\n"
     ]
    }
   ],
   "source": [
    "project_id = \"5ddb64aa-92e0-4594-9da8-d1159e6c7842\"\n",
    "\n",
    "# Create the URL\n",
    "url = f\"{host}/api/projects/{project_id}/list-dataset-folders/\"\n",
    "\n",
    "# Define the headers for the request\n",
    "headers = {\n",
    "    'Authorization': f'Token {token}'\n",
    "}\n",
    "\n",
    "# Make the POST request\n",
    "response = requests.get(url, headers=headers)\n",
    "\n",
    "# Print the status code and the response body\n",
    "print(\"Status Code:\", response.status_code)\n",
    "print(\"Response Body:\", response.json())"
   ]
  },
  {
   "cell_type": "code",
   "execution_count": 36,
   "metadata": {},
   "outputs": [
    {
     "name": "stdout",
     "output_type": "stream",
     "text": [
      "Status Code: 204\n"
     ]
    }
   ],
   "source": [
    "project_id = \"5ddb64aa-92e0-4594-9da8-d1159e6c7842\"\n",
    "\n",
    "# Create the URL\n",
    "url = f\"{host}/api/projects/{project_id}/\"\n",
    "\n",
    "# Define the headers for the request\n",
    "headers = {\n",
    "    'Authorization': f'Token {token}'\n",
    "}\n",
    "\n",
    "# Make the DELETE request\n",
    "response = requests.delete(url, headers=headers)\n",
    "\n",
    "# Print the status code and the response (if any)\n",
    "print(\"Status Code:\", response.status_code)\n",
    "if response.text:\n",
    "    print(\"Response Body:\", response.text)"
   ]
  },
  {
   "attachments": {},
   "cell_type": "markdown",
   "metadata": {},
   "source": [
    "Update project name"
   ]
  },
  {
   "cell_type": "code",
   "execution_count": null,
   "metadata": {},
   "outputs": [],
   "source": [
    "project_id = \"{{project_id}}\"\n",
    "\n",
    "# Create the URL\n",
    "url = f\"{host}/api/projects/{project_id}/\"\n",
    "\n",
    "# Define the headers for the request\n",
    "headers = {\n",
    "    'Authorization': f'Token {token}'\n",
    "}\n",
    "\n",
    "body = {\n",
    "    \"name\": \"Folder updated\"\n",
    "}\n",
    "\n",
    "# Make the DELETE request\n",
    "response = requests.delete(url, headers=headers)\n",
    "\n",
    "# Print the status code and the response (if any)\n",
    "print(\"Status Code:\", response.status_code)\n",
    "if response.text:\n",
    "    print(\"Response Body:\", response.text)"
   ]
  }
 ],
 "metadata": {
  "kernelspec": {
   "display_name": "base",
   "language": "python",
   "name": "python3"
  },
  "language_info": {
   "codemirror_mode": {
    "name": "ipython",
    "version": 3
   },
   "file_extension": ".py",
   "mimetype": "text/x-python",
   "name": "python",
   "nbconvert_exporter": "python",
   "pygments_lexer": "ipython3",
   "version": "3.10.10"
  },
  "orig_nbformat": 4
 },
 "nbformat": 4,
 "nbformat_minor": 2
}
