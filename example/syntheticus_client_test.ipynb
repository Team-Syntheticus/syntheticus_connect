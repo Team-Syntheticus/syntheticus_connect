{
 "cells": [
  {
   "cell_type": "code",
   "execution_count": 1,
   "metadata": {},
   "outputs": [],
   "source": [
    "import sys\n",
    "try:\n",
    "    sys.path.insert(0, '..')\n",
    "    from syntheticus_connect import syntheticus_client\n",
    "except ImportError:\n",
    "    from syntheticus_connect import syntheticus_client"
   ]
  },
  {
   "cell_type": "code",
   "execution_count": 2,
   "metadata": {},
   "outputs": [],
   "source": [
    "client = syntheticus_client(host=\"http://34.65.93.97\")"
   ]
  },
  {
   "cell_type": "code",
   "execution_count": 3,
   "metadata": {},
   "outputs": [
    {
     "data": {
      "text/plain": [
       "{'username': ['A user with that username already exists.'],\n",
       " 'email': ['A user is already registered with this e-mail address.']}"
      ]
     },
     "execution_count": 3,
     "metadata": {},
     "output_type": "execute_result"
    }
   ],
   "source": [
    "client.registration('test','test@mail.com','testpwd123')"
   ]
  },
  {
   "cell_type": "code",
   "execution_count": 4,
   "metadata": {},
   "outputs": [
    {
     "data": {
      "text/plain": [
       "'Login successful.'"
      ]
     },
     "execution_count": 4,
     "metadata": {},
     "output_type": "execute_result"
    }
   ],
   "source": [
    "client.login(username=\"test\", password=\"testpwd123\")"
   ]
  },
  {
   "cell_type": "code",
   "execution_count": 5,
   "metadata": {},
   "outputs": [
    {
     "name": "stdout",
     "output_type": "stream",
     "text": [
      "User details:\n",
      "Username: test\n",
      "Name: \n",
      "URL: http://34.65.93.97:8000/api/users/2/\n",
      "--------------------\n"
     ]
    }
   ],
   "source": [
    "client.get_me()"
   ]
  },
  {
   "cell_type": "code",
   "execution_count": 12,
   "metadata": {},
   "outputs": [
    {
     "name": "stdout",
     "output_type": "stream",
     "text": [
      "Project created:\n",
      "ID: f3e53b48-2ced-4d74-8225-8f0fc46d759e\n",
      "Name: test_project\n",
      "Created at: 2023-06-27T13:17:07+0000\n",
      "--------------------\n"
     ]
    }
   ],
   "source": [
    "client.create_project(\"test_project\")"
   ]
  },
  {
   "cell_type": "code",
   "execution_count": 6,
   "metadata": {},
   "outputs": [
    {
     "name": "stdout",
     "output_type": "stream",
     "text": [
      "Projects:\n",
      "+--------------------------------------+--------------+--------------------------+\n",
      "|              Project ID              | Project Name |        Created At        |\n",
      "+--------------------------------------+--------------+--------------------------+\n",
      "| f3e53b48-2ced-4d74-8225-8f0fc46d759e | test_project | 2023-06-27T13:17:07+0000 |\n",
      "+--------------------------------------+--------------+--------------------------+\n"
     ]
    }
   ],
   "source": [
    "client.get_projects()"
   ]
  },
  {
   "cell_type": "code",
   "execution_count": 7,
   "metadata": {},
   "outputs": [
    {
     "name": "stdout",
     "output_type": "stream",
     "text": [
      "+--------------+------------+------------+\n",
      "| Dataset Name | Dataset ID | Project ID |\n",
      "+--------------+------------+------------+\n",
      "+--------------+------------+------------+\n"
     ]
    }
   ],
   "source": [
    "client.get_datasets('4b7b73c5-2d0c-4c8b-a59a-dc9af18d9e62')"
   ]
  },
  {
   "cell_type": "code",
   "execution_count": 8,
   "metadata": {},
   "outputs": [
    {
     "data": {
      "text/plain": [
       "'Error deleting project.'"
      ]
     },
     "execution_count": 8,
     "metadata": {},
     "output_type": "execute_result"
    }
   ],
   "source": [
    "client.delete_project('6def4aa5-1b75-4edb-942f-dad4d1ed318f')"
   ]
  },
  {
   "cell_type": "code",
   "execution_count": 10,
   "metadata": {},
   "outputs": [
    {
     "name": "stdout",
     "output_type": "stream",
     "text": [
      "{\"message\":\"Start data uploading\"}\n"
     ]
    }
   ],
   "source": [
    "project_id = \"f3e53b48-2ced-4d74-8225-8f0fc46d759e\"\n",
    "file_path = \"C:/Users/mazzo/Documents/SyntheticusConnect/dataset/iris.csv\"\n",
    "data_set_folder_name = \"iris\"\n",
    "client.upload_data(project_id, file_path, data_set_folder_name)"
   ]
  },
  {
   "cell_type": "code",
   "execution_count": 11,
   "metadata": {},
   "outputs": [
    {
     "name": "stdout",
     "output_type": "stream",
     "text": [
      "No models available.\n"
     ]
    }
   ],
   "source": [
    "client.list_models()"
   ]
  }
 ],
 "metadata": {
  "kernelspec": {
   "display_name": "base",
   "language": "python",
   "name": "python3"
  },
  "language_info": {
   "codemirror_mode": {
    "name": "ipython",
    "version": 3
   },
   "file_extension": ".py",
   "mimetype": "text/x-python",
   "name": "python",
   "nbconvert_exporter": "python",
   "pygments_lexer": "ipython3",
   "version": "3.10.10"
  },
  "orig_nbformat": 4
 },
 "nbformat": 4,
 "nbformat_minor": 2
}
