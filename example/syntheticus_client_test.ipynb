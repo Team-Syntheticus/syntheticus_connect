{
 "cells": [
  {
   "cell_type": "code",
   "execution_count": 1,
   "metadata": {},
   "outputs": [],
   "source": [
    "import sys\n",
    "try:\n",
    "    sys.path.insert(0, '..')\n",
    "    from syntheticus_connect import syntheticus_client\n",
    "except ImportError:\n",
    "    from syntheticus_connect import syntheticus_client"
   ]
  },
  {
   "attachments": {},
   "cell_type": "markdown",
   "metadata": {},
   "source": [
    "## Setup the client"
   ]
  },
  {
   "attachments": {},
   "cell_type": "markdown",
   "metadata": {},
   "source": [
    "#### specify the deployment URL"
   ]
  },
  {
   "cell_type": "code",
   "execution_count": 2,
   "metadata": {},
   "outputs": [],
   "source": [
    "client = syntheticus_client(host=\"http://34.65.63.14\")\n",
    "#client = syntheticus_client(host=\"http://syntheticus-hub-airflow_airflow-webserver_1\")\n",
    "#client = syntheticus_client(host=\"http://localhost\")"
   ]
  },
  {
   "attachments": {},
   "cell_type": "markdown",
   "metadata": {},
   "source": [
    "#### specify your credential"
   ]
  },
  {
   "cell_type": "code",
   "execution_count": 3,
   "metadata": {},
   "outputs": [
    {
     "data": {
      "text/plain": [
       "'Login successful.'"
      ]
     },
     "execution_count": 3,
     "metadata": {},
     "output_type": "execute_result"
    }
   ],
   "source": [
    "client.login(username=\"demo_user\", password=\"demo_user\")"
   ]
  },
  {
   "attachments": {},
   "cell_type": "markdown",
   "metadata": {},
   "source": [
    "## Create, list, delete projects and datasets"
   ]
  },
  {
   "attachments": {},
   "cell_type": "markdown",
   "metadata": {},
   "source": [
    "#### List projects"
   ]
  },
  {
   "cell_type": "code",
   "execution_count": 4,
   "metadata": {},
   "outputs": [
    {
     "name": "stdout",
     "output_type": "stream",
     "text": [
      "Projects:\n",
      "+--------------------------------------+-------------------------+--------------------------+--------------+\n",
      "|              Project ID              |      Project Name       |        Created At        |    Status    |\n",
      "+--------------------------------------+-------------------------+--------------------------+--------------+\n",
      "| 1717f8d0-150b-4c04-b283-8dbbab4de6c0 | demo_project_1_05072023 | 2023-07-05T10:03:56+0000 | Not Selected |\n",
      "| 15c4f11b-45b0-4cf1-a49b-6df2748774d7 | demo_project_2_05072023 | 2023-07-05T14:45:18+0000 | Not Selected |\n",
      "| b824d53a-1e83-48b8-854c-2be049271925 | demo_project_3_05072023 | 2023-07-06T09:41:09+0000 | Not Selected |\n",
      "| e329a9c7-13d0-4c29-b9fe-90786024dac0 | demo_project_4_05072023 | 2023-07-06T10:20:48+0000 | Not Selected |\n",
      "| f8e6b9bd-ef75-436f-97ea-e0e6f2858780 | demo_project_5_05072023 | 2023-07-06T10:50:44+0000 | Not Selected |\n",
      "+--------------------------------------+-------------------------+--------------------------+--------------+\n"
     ]
    }
   ],
   "source": [
    "client.get_projects()"
   ]
  },
  {
   "attachments": {},
   "cell_type": "markdown",
   "metadata": {},
   "source": [
    "#### Create and delete a project"
   ]
  },
  {
   "cell_type": "code",
   "execution_count": 5,
   "metadata": {},
   "outputs": [
    {
     "name": "stdout",
     "output_type": "stream",
     "text": [
      "Error creating the project.\n"
     ]
    }
   ],
   "source": [
    "client.create_project(\"test_project\")"
   ]
  },
  {
   "cell_type": "code",
   "execution_count": 6,
   "metadata": {},
   "outputs": [
    {
     "data": {
      "text/plain": [
       "'Error deleting project.'"
      ]
     },
     "execution_count": 6,
     "metadata": {},
     "output_type": "execute_result"
    }
   ],
   "source": [
    "client.delete_project('f8e6b9bd-ef75-436f-97ea-e0e6f2858780')"
   ]
  },
  {
   "cell_type": "code",
   "execution_count": 6,
   "metadata": {},
   "outputs": [
    {
     "name": "stdout",
     "output_type": "stream",
     "text": [
      "Project selected: f8e6b9bd-ef75-436f-97ea-e0e6f2858780 with name demo_project_5_05072023\n"
     ]
    }
   ],
   "source": [
    "client.select_project('f8e6b9bd-ef75-436f-97ea-e0e6f2858780')"
   ]
  },
  {
   "attachments": {},
   "cell_type": "markdown",
   "metadata": {},
   "source": [
    "#### List the datasets in a projects"
   ]
  },
  {
   "cell_type": "code",
   "execution_count": 7,
   "metadata": {},
   "outputs": [
    {
     "name": "stdout",
     "output_type": "stream",
     "text": [
      "+--------------+--------------------------------------+--------------------------------------+-----------+--------+----------------+-------------------+--------------+\n",
      "| Dataset Name |              Dataset ID              |              Project ID              | Data Type |  Size  | Number of Rows | Number of Columns |    Status    |\n",
      "+--------------+--------------------------------------+--------------------------------------+-----------+--------+----------------+-------------------+--------------+\n",
      "|     iris     | 0f917afc-2b3d-448c-878b-74503af19ddc | f8e6b9bd-ef75-436f-97ea-e0e6f2858780 |  Tabular  | 3.9 kB |      150       |         5         | Not Selected |\n",
      "|     iris     | eacf414c-a4a4-4b28-a287-3c236f316c3a | f8e6b9bd-ef75-436f-97ea-e0e6f2858780 |  Tabular  | 3.9 kB |      150       |         5         | Not Selected |\n",
      "|     iris     | 854b08fa-ab8b-47f2-a126-29f0d9783899 | f8e6b9bd-ef75-436f-97ea-e0e6f2858780 |  Tabular  | 3.9 kB |      150       |         5         | Not Selected |\n",
      "+--------------+--------------------------------------+--------------------------------------+-----------+--------+----------------+-------------------+--------------+\n"
     ]
    }
   ],
   "source": [
    "client.get_datasets()"
   ]
  },
  {
   "attachments": {},
   "cell_type": "markdown",
   "metadata": {},
   "source": [
    "#### Upload dataset in a project"
   ]
  },
  {
   "cell_type": "code",
   "execution_count": 27,
   "metadata": {},
   "outputs": [
    {
     "name": "stdout",
     "output_type": "stream",
     "text": [
      "Files uploaded successfully.\n"
     ]
    },
    {
     "data": {
      "text/plain": [
       "<Response [200]>"
      ]
     },
     "execution_count": 27,
     "metadata": {},
     "output_type": "execute_result"
    }
   ],
   "source": [
    "project_id = 'b824d53a-1e83-48b8-854c-2be049271925'\n",
    "file_names = [\"iris.csv\", \"metadata.json\"]\n",
    "folder_path = \"../dataset\"\n",
    "dataset_name = 'irissss'\n",
    "client.upload_data(project_id=project_id , dataset_name = dataset_name ,folder_path=folder_path, file_names=file_names)"
   ]
  },
  {
   "attachments": {},
   "cell_type": "markdown",
   "metadata": {},
   "source": [
    "#### list the models available"
   ]
  },
  {
   "cell_type": "code",
   "execution_count": 8,
   "metadata": {},
   "outputs": [
    {
     "name": "stdout",
     "output_type": "stream",
     "text": [
      "Available Models:\n",
      "+------------------+----------------------------------------+\n",
      "|    Model Name    |              Description               |\n",
      "+------------------+----------------------------------------+\n",
      "|   multiTableGC   |    Multi table statistical modeling    |\n",
      "|  multiTableHMA1  |  Multi table generative modeling HMA1  |\n",
      "| singleTableCTGAN | Single table generative modeling CTGAN |\n",
      "|  singleTableGC   |   Single table statistical modeling    |\n",
      "|    transform     |           Transforming data            |\n",
      "+------------------+----------------------------------------+\n"
     ]
    }
   ],
   "source": [
    "client.list_models()"
   ]
  },
  {
   "attachments": {},
   "cell_type": "markdown",
   "metadata": {},
   "source": [
    "#### Setup the parameter for the synthetization and run"
   ]
  },
  {
   "cell_type": "code",
   "execution_count": 11,
   "metadata": {},
   "outputs": [
    {
     "data": {
      "text/plain": [
       "'Synthetization triggered successfully!'"
      ]
     },
     "execution_count": 11,
     "metadata": {},
     "output_type": "execute_result"
    }
   ],
   "source": [
    "client.project_id = 'f8e6b9bd-ef75-436f-97ea-e0e6f2858780' # Chose the project you want to work with\n",
    "client.dag_id = 'singleTableGC' # Choose a suitable model from the models list\n",
    "client.synthetize()"
   ]
  }
 ],
 "metadata": {
  "kernelspec": {
   "display_name": "base",
   "language": "python",
   "name": "python3"
  },
  "language_info": {
   "codemirror_mode": {
    "name": "ipython",
    "version": 3
   },
   "file_extension": ".py",
   "mimetype": "text/x-python",
   "name": "python",
   "nbconvert_exporter": "python",
   "pygments_lexer": "ipython3",
   "version": "3.10.10"
  },
  "orig_nbformat": 4
 },
 "nbformat": 4,
 "nbformat_minor": 2
}
