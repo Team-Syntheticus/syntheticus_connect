{
 "cells": [
  {
   "cell_type": "code",
   "execution_count": 1,
   "id": "17c78965",
   "metadata": {},
   "outputs": [],
   "source": [
    "import sys\n",
    "try:\n",
    "    sys.path.insert(0, '..')\n",
    "    from syntheticus_connect import syntheticus_client\n",
    "except ImportError:\n",
    "    from syntheticus_connect import syntheticus_client"
   ]
  },
  {
   "cell_type": "code",
   "execution_count": 2,
   "id": "23f631f5",
   "metadata": {},
   "outputs": [],
   "source": [
    "from syntheticus_connect import syntheticus_client"
   ]
  },
  {
   "cell_type": "code",
   "execution_count": 3,
   "id": "f59ead2c",
   "metadata": {},
   "outputs": [],
   "source": [
    "import requests\n",
    "import json"
   ]
  },
  {
   "cell_type": "code",
   "execution_count": 4,
   "id": "b8e1566e",
   "metadata": {},
   "outputs": [],
   "source": [
    "client = syntheticus_client(host=\"http://34.65.63.14\")"
   ]
  },
  {
   "cell_type": "code",
   "execution_count": 5,
   "id": "846e6de2",
   "metadata": {},
   "outputs": [
    {
     "ename": "AttributeError",
     "evalue": "'syntheticus_client' object has no attribute 'registration'",
     "output_type": "error",
     "traceback": [
      "\u001b[1;31m---------------------------------------------------------------------------\u001b[0m",
      "\u001b[1;31mAttributeError\u001b[0m                            Traceback (most recent call last)",
      "Cell \u001b[1;32mIn[5], line 1\u001b[0m\n\u001b[1;32m----> 1\u001b[0m client\u001b[39m.\u001b[39;49mregistration(\u001b[39m'\u001b[39m\u001b[39mdemo_user\u001b[39m\u001b[39m'\u001b[39m, \u001b[39m'\u001b[39m\u001b[39mhello@syntheticus.ai\u001b[39m\u001b[39m'\u001b[39m, \u001b[39m'\u001b[39m\u001b[39mdemo_user\u001b[39m\u001b[39m'\u001b[39m)\n",
      "\u001b[1;31mAttributeError\u001b[0m: 'syntheticus_client' object has no attribute 'registration'"
     ]
    }
   ],
   "source": [
    "client.registration('demo_user', 'hello@syntheticus.ai', 'demo_user')"
   ]
  },
  {
   "cell_type": "code",
   "execution_count": 84,
   "id": "1dfac906",
   "metadata": {},
   "outputs": [
    {
     "data": {
      "text/plain": [
       "'Login successful.'"
      ]
     },
     "execution_count": 84,
     "metadata": {},
     "output_type": "execute_result"
    }
   ],
   "source": [
    "client.login(username=\"demo_user\", password=\"demo_user\")"
   ]
  },
  {
   "cell_type": "code",
   "execution_count": 157,
   "id": "2011c8d4",
   "metadata": {
    "scrolled": true
   },
   "outputs": [
    {
     "name": "stdout",
     "output_type": "stream",
     "text": [
      "Project created:\n",
      "ID: f8e6b9bd-ef75-436f-97ea-e0e6f2858780\n",
      "Name: demo_project_5_05072023\n",
      "Created at: 2023-07-06T10:50:44+0000\n",
      "--------------------\n"
     ]
    }
   ],
   "source": [
    "client.create_project('demo_project_5_05072023')"
   ]
  },
  {
   "attachments": {},
   "cell_type": "markdown",
   "id": "14c35591",
   "metadata": {},
   "source": [
    "#### Delete project"
   ]
  },
  {
   "cell_type": "code",
   "execution_count": 156,
   "id": "583e2796",
   "metadata": {},
   "outputs": [
    {
     "data": {
      "text/plain": [
       "'Error deleting project.'"
      ]
     },
     "execution_count": 156,
     "metadata": {},
     "output_type": "execute_result"
    }
   ],
   "source": [
    "client.delete_project('b824d53a-1e83-48b8-854c-2be049271925')"
   ]
  },
  {
   "attachments": {},
   "cell_type": "markdown",
   "id": "4e8f4fea",
   "metadata": {},
   "source": [
    "#### get project list"
   ]
  },
  {
   "cell_type": "code",
   "execution_count": 168,
   "id": "f6aa66ad",
   "metadata": {
    "scrolled": true
   },
   "outputs": [
    {
     "name": "stdout",
     "output_type": "stream",
     "text": [
      "Projects:\n",
      "+--------------------------------------+-------------------------+--------------------------+\n",
      "|              Project ID              |      Project Name       |        Created At        |\n",
      "+--------------------------------------+-------------------------+--------------------------+\n",
      "| 1717f8d0-150b-4c04-b283-8dbbab4de6c0 | demo_project_1_05072023 | 2023-07-05T10:03:56+0000 |\n",
      "| 15c4f11b-45b0-4cf1-a49b-6df2748774d7 | demo_project_2_05072023 | 2023-07-05T14:45:18+0000 |\n",
      "| b824d53a-1e83-48b8-854c-2be049271925 | demo_project_3_05072023 | 2023-07-06T09:41:09+0000 |\n",
      "| e329a9c7-13d0-4c29-b9fe-90786024dac0 | demo_project_4_05072023 | 2023-07-06T10:20:48+0000 |\n",
      "| f8e6b9bd-ef75-436f-97ea-e0e6f2858780 | demo_project_5_05072023 | 2023-07-06T10:50:44+0000 |\n",
      "+--------------------------------------+-------------------------+--------------------------+\n"
     ]
    }
   ],
   "source": [
    "client.get_projects()"
   ]
  },
  {
   "attachments": {},
   "cell_type": "markdown",
   "id": "3bc8ec5c",
   "metadata": {},
   "source": [
    "#### get dataset for specific project"
   ]
  },
  {
   "cell_type": "code",
   "execution_count": 159,
   "id": "9548e6d1",
   "metadata": {
    "scrolled": true
   },
   "outputs": [
    {
     "name": "stdout",
     "output_type": "stream",
     "text": [
      "+--------------+------------+------------+\n",
      "| Dataset Name | Dataset ID | Project ID |\n",
      "+--------------+------------+------------+\n",
      "+--------------+------------+------------+\n"
     ]
    }
   ],
   "source": [
    "client.get_datasets('f8e6b9bd-ef75-436f-97ea-e0e6f2858780') # tis implemntation is wrong"
   ]
  },
  {
   "cell_type": "code",
   "execution_count": 171,
   "id": "bcbfda9a",
   "metadata": {},
   "outputs": [
    {
     "name": "stdout",
     "output_type": "stream",
     "text": [
      "{\"count\":1,\"next\":null,\"previous\":null,\"results\":[{\"id\":\"854b08fa-ab8b-47f2-a126-29f0d9783899\",\"project\":\"f8e6b9bd-ef75-436f-97ea-e0e6f2858780\",\"folder_name\":\"iris_07/06/2023_10:51:51\",\"data_type\":\"Tabular\",\"datasets\":[{\"id\":\"dd5df4e4-fad9-49ee-8006-e810a6ae34d0\",\"original_file_name\":\"metadata.json\",\"size\":\"492 Bytes\",\"created_at\":\"2023-07-06T10:51:51+0000\",\"datasets\":[{\"id\":\"f72c734a-4dcc-4d50-bac2-ae5b792d6f1f\",\"dataset_name\":\"iris\",\"size\":\"3.9 kB\",\"rows_number\":150,\"dataset_metadata\":{\"column_names\":[\"sepal.length\",\"sepal.width\",\"petal.length\",\"petal.width\",\"variety\"],\"column_types\":{\"variety\":\"categorical\",\"petal.width\":\"numerical\",\"sepal.width\":\"numerical\",\"petal.length\":\"numerical\",\"sepal.length\":\"numerical\"}},\"created_at\":\"2023-07-06T10:51:51+0000\"}],\"resourcetype\":\"DatasetRelation\"}]}]}\n"
     ]
    }
   ],
   "source": [
    "import requests\n",
    "\n",
    "url = f\"{client.host}/api/projects/f8e6b9bd-ef75-436f-97ea-e0e6f2858780/list-dataset-folders/\"\n",
    "\n",
    "payload = {}\n",
    "files={}\n",
    "headers = {\n",
    "  'Authorization': f'Token {client.token}'\n",
    "}\n",
    "\n",
    "response = requests.request(\"GET\", url, headers=headers, data=payload, files=files)\n",
    "\n",
    "print(response.text)\n"
   ]
  },
  {
   "cell_type": "code",
   "execution_count": 110,
   "id": "d3aa4e34",
   "metadata": {},
   "outputs": [
    {
     "name": "stdout",
     "output_type": "stream",
     "text": [
      "{\"count\":2,\"next\":null,\"previous\":null,\"results\":[{\"id\":\"0c40423f-daf6-4b8b-8542-da9a3b1c0aee\",\"project\":\"b824d53a-1e83-48b8-854c-2be049271925\",\"folder_name\":\"iris_07/06/2023_10:03:01\",\"data_type\":\"Tabular\",\"datasets\":[{\"id\":\"d5551943-1c58-453a-9598-18a93c703895\",\"original_file_name\":\"metadata.json\",\"size\":\"492 Bytes\",\"created_at\":\"2023-07-06T10:03:01+0000\",\"datasets\":[{\"id\":\"afd4a98b-ea31-4634-9489-071424c90df3\",\"dataset_name\":\"iris\",\"size\":\"3.9 kB\",\"rows_number\":150,\"dataset_metadata\":{\"column_names\":[\"sepal.length\",\"sepal.width\",\"petal.length\",\"petal.width\",\"variety\"],\"column_types\":{\"variety\":\"categorical\",\"petal.width\":\"numerical\",\"sepal.width\":\"numerical\",\"petal.length\":\"numerical\",\"sepal.length\":\"numerical\"}},\"created_at\":\"2023-07-06T10:03:01+0000\"}],\"resourcetype\":\"DatasetRelation\"}]},{\"id\":\"64fdb96b-5e8b-4c52-bf2b-1c685f0cceae\",\"project\":\"b824d53a-1e83-48b8-854c-2be049271925\",\"folder_name\":\"iris_07/06/2023_09:58:23\",\"data_type\":\"Tabular\",\"datasets\":[]}]}\n"
     ]
    }
   ],
   "source": [
    "import requests\n",
    "\n",
    "url = f\"{client.host}/api/projects/b824d53a-1e83-48b8-854c-2be049271925/list-dataset-folders/\"\n",
    "\n",
    "payload = {}\n",
    "files={}\n",
    "headers = {\n",
    "  'Authorization': f'Token {client.token}'\n",
    "}\n",
    "\n",
    "response = requests.request(\"GET\", url, headers=headers, data=payload, files=files)\n",
    "\n",
    "print(response.text)"
   ]
  },
  {
   "attachments": {},
   "cell_type": "markdown",
   "id": "b6794d52",
   "metadata": {},
   "source": [
    "#### Upload dataset"
   ]
  },
  {
   "cell_type": "code",
   "execution_count": null,
   "id": "1e141bba",
   "metadata": {},
   "outputs": [],
   "source": [
    "file_names = [\"file1.csv\", \"file2.csv\", \"file1.json\"]\n",
    "response_text = api.upload_data(project_id=\"your_project_id_here\", folder_path=\"your_folder_path_here\", file_names=file_names)"
   ]
  },
  {
   "cell_type": "code",
   "execution_count": 162,
   "id": "2e1b5de3",
   "metadata": {},
   "outputs": [
    {
     "name": "stdout",
     "output_type": "stream",
     "text": [
      "{\"message\":\"Start data uploading\"}\n"
     ]
    }
   ],
   "source": [
    "#single table\n",
    "url = f\"{client.host}/api/projects/f8e6b9bd-ef75-436f-97ea-e0e6f2858780/upload-data/\"\n",
    "\n",
    "payload = {'dataset_folder_name': 'iris'}\n",
    "files=[\n",
    "('files',('metadata.json',open('./syntheticus_templates/sample_data/single_table/iris_v1/metadata.json','rb'),'application/json')),\n",
    "('files',('iris.csv',open('./syntheticus_templates/sample_data/single_table/iris_v1/iris.csv','rb'),'text/csv')),\n",
    "]\n",
    "headers = {'Authorization': f'Token {client.token}'}\n",
    "response = requests.request(\"POST\", url, headers=headers, data=payload, files=files)\n",
    "print(response.text)"
   ]
  },
  {
   "cell_type": "code",
   "execution_count": 128,
   "id": "40321c71",
   "metadata": {},
   "outputs": [
    {
     "name": "stdout",
     "output_type": "stream",
     "text": [
      "{\"message\":\"Start data uploading\"}\n"
     ]
    }
   ],
   "source": [
    "#multi table\n",
    "url = f\"{client.host}/api/projects/e329a9c7-13d0-4c29-b9fe-90786024dac0/upload-data/\"\n",
    "\n",
    "payload = {'dataset_folder_name': 'transactions'}\n",
    "files=[\n",
    "('files',('metadata.json',open('./syntheticus_templates/sample_data/multi_table/transactions/metadata.json','rb'),'application/json')),\n",
    "('files',('transactions.csv',open('./syntheticus_templates/sample_data/multi_table/transactions/transactions.csv','rb'),'text/csv')),\n",
    "('files',('users.csv',open('./syntheticus_templates/sample_data/multi_table/transactions/users.csv','rb'),'text/csv')),\n",
    "('files',('sessions.csv',open('./syntheticus_templates/sample_data/multi_table/transactions/sessions.csv','rb'),'text/csv')),\n",
    "]\n",
    "headers = {'Authorization': f'Token {client.token}'}\n",
    "response = requests.request(\"POST\", url, headers=headers, data=payload, files=files)\n",
    "print(response.text)"
   ]
  },
  {
   "attachments": {},
   "cell_type": "markdown",
   "id": "c2fcbb67",
   "metadata": {},
   "source": [
    "#### Upload configuration file"
   ]
  },
  {
   "cell_type": "code",
   "execution_count": 172,
   "id": "2f3b98ce",
   "metadata": {},
   "outputs": [
    {
     "name": "stdout",
     "output_type": "stream",
     "text": [
      "{\"message\":\"Conf file updated success\"}\n"
     ]
    }
   ],
   "source": [
    "url_upload_conf = f'{client.host}/api/projects/f8e6b9bd-ef75-436f-97ea-e0e6f2858780/update-conf-file/'\n",
    "\n",
    "headers = {'Authorization': f'Token {client.token}'}\n",
    "           #'Accept': 'application/json'}\n",
    "file_path = './base2.yaml'\n",
    "files=[\n",
    "('file',('config.yaml',open(file_path,'rb'),'text/yaml'))\n",
    "]\n",
    "response = requests.request(\"POST\", url_upload_conf, headers=headers, files=files)\n",
    "print(response.text)"
   ]
  },
  {
   "cell_type": "code",
   "execution_count": 166,
   "id": "96acaad1",
   "metadata": {
    "scrolled": true
   },
   "outputs": [
    {
     "name": "stdout",
     "output_type": "stream",
     "text": [
      "Available Models:\n",
      "Model name: multiTableGC, description: Multi table statistical modeling\n",
      "Model name: multiTableHMA1, description: Multi table generative modeling HMA1\n",
      "Model name: singleTableCTGAN, description: Single table generative modeling CTGAN\n",
      "Model name: singleTableGC, description: Single table statistical modeling\n",
      "Model name: transform, description: Transforming data\n"
     ]
    }
   ],
   "source": [
    "client.list_models()"
   ]
  },
  {
   "cell_type": "code",
   "execution_count": 175,
   "id": "a997d0db",
   "metadata": {},
   "outputs": [],
   "source": [
    "import logging\n",
    "def synthetize(dag_id):\n",
    "    \"\"\"This method triggers the synthetization process\"\"\"\n",
    "    url = f\"{client.host_airflow}/api/v1/dags/{dag_id}/dagRuns\"\n",
    "    conf = {\"main_data_dir\": './media/', \"project_name\": 'f8e6b9bd-ef75-436f-97ea-e0e6f2858780'}\n",
    "    data = {\"dag_run_id\": 'new date', \"conf\": conf}\n",
    "    headers = {'Authorization': f'Token {client.token}'}\n",
    "    try:\n",
    "        response = client.session.post(url, json=data)\n",
    "        response.raise_for_status()\n",
    "        logging.info(\"Synthetization triggered successfully!\")\n",
    "    except requests.exceptions.HTTPError as errh:\n",
    "        logging.error(f\"Http Error: {errh}\")\n",
    "    except requests.exceptions.ConnectionError as errc:\n",
    "        logging.error(f\"Error Connecting: {errc}\")\n",
    "    except requests.exceptions.Timeout as errt:\n",
    "        logging.error(f\"Timeout Error: {errt}\")\n",
    "    except requests.exceptions.RequestException as err:\n",
    "        logging.error(f\"Something went wrong: {err}\")"
   ]
  },
  {
   "cell_type": "code",
   "execution_count": 176,
   "id": "f91e7966",
   "metadata": {},
   "outputs": [],
   "source": [
    "response = synthetize(dag_id = 'singleTableGC')"
   ]
  },
  {
   "attachments": {},
   "cell_type": "markdown",
   "id": "3a9b264e",
   "metadata": {},
   "source": [
    "#### get commit"
   ]
  },
  {
   "cell_type": "code",
   "execution_count": 177,
   "id": "7e40f41b",
   "metadata": {},
   "outputs": [
    {
     "name": "stdout",
     "output_type": "stream",
     "text": [
      "<!DOCTYPE html>\n",
      "\n",
      "<html lang=\"en\">\n",
      "  <head>\n",
      "    <meta charset=\"utf-8\">\n",
      "    <meta http-equiv=\"x-ua-compatible\" content=\"ie=edge\">\n",
      "    <title>Server Error</title>\n",
      "    <meta name=\"viewport\" content=\"width=device-width, initial-scale=1.0\">\n",
      "    <meta name=\"description\" content=\"Behold My Awesome Project!\">\n",
      "    <meta name=\"author\" content=\"Aldo\">\n",
      "\n",
      "    <link rel=\"icon\" href=\"/static/images/favicons/favicon.a66bc42b4e8a.ico\">\n",
      "\n",
      "    \n",
      "    <!-- Latest compiled and minified Bootstrap CSS -->\n",
      "    <link rel=\"stylesheet\" href=\"https://cdnjs.cloudflare.com/ajax/libs/bootstrap/5.1.3/css/bootstrap.min.css\" integrity=\"sha512-GQGU0fMMi238uA+a/bdWJfpUGKUkBdgfFdgBm72SUQ6BeyWjoY/ton0tEjH+OSH9iP4Dfh+7HM0I9f5eR0L/4w==\" crossorigin=\"anonymous\" referrerpolicy=\"no-referrer\" />\n",
      "    <!-- Your stuff: Third-party CSS libraries go here -->\n",
      "\n",
      "    <!-- This file stores project-specific CSS -->\n",
      "    <link href=\"/static/css/project.a9bf09099778.css\" rel=\"stylesheet\">\n",
      "    \n",
      "    <!-- Le javascript\n",
      "    ================================================== -->\n",
      "    \n",
      "    \n",
      "      <!-- Bootstrap JS -->\n",
      "      <script defer src=\"https://cdnjs.cloudflare.com/ajax/libs/bootstrap/5.1.3/js/bootstrap.min.js\" integrity=\"sha512-OvBgP9A2JBgiRad/mM36mkzXSXaJE9BEIENnVEmeZdITvwT09xnxLtT4twkCa8m/loMbPHsvPl0T8lRGVBwjlQ==\" crossorigin=\"anonymous\" referrerpolicy=\"no-referrer\"></script>\n",
      "      <!-- Your stuff: Third-party javascript libraries go here -->\n",
      "\n",
      "      <!-- place project specific Javascript in this file -->\n",
      "      <script defer src=\"/static/js/project.d1c9eda2d170.js\"></script>\n",
      "\n",
      "    \n",
      "\n",
      "  </head>\n",
      "\n",
      "  <body>\n",
      "\n",
      "    <div class=\"mb-1\">\n",
      "      <nav class=\"navbar navbar-expand-md navbar-light bg-light\">\n",
      "        <div class=\"container-fluid\">\n",
      "          <button class=\"navbar-toggler navbar-toggler-right\" type=\"button\" data-bs-toggle=\"collapse\" data-bs-target=\"#navbarSupportedContent\" aria-controls=\"navbarSupportedContent\" aria-expanded=\"false\" aria-label=\"Toggle navigation\">\n",
      "            <span class=\"navbar-toggler-icon\"></span>\n",
      "          </button>\n",
      "          <a class=\"navbar-brand\" href=\"/\">syntheticus2.0</a>\n",
      "\n",
      "          <div class=\"collapse navbar-collapse\" id=\"navbarSupportedContent\">\n",
      "            <ul class=\"navbar-nav mr-auto\">\n",
      "              <li class=\"nav-item active\">\n",
      "                <a class=\"nav-link\" href=\"/\">Home <span class=\"visually-hidden\">(current)</span></a>\n",
      "              </li>\n",
      "              <li class=\"nav-item\">\n",
      "                <a class=\"nav-link\" href=\"/about/\">About</a>\n",
      "              </li>\n",
      "              \n",
      "                \n",
      "                <li class=\"nav-item\">\n",
      "                  \n",
      "                  <a id=\"log-in-link\" class=\"nav-link\" href=\"/accounts/login/\">Sign In</a>\n",
      "                </li>\n",
      "              \n",
      "            </ul>\n",
      "          </div>\n",
      "        </div>\n",
      "      </nav>\n",
      "\n",
      "    </div>\n",
      "\n",
      "    <div class=\"container\">\n",
      "\n",
      "      \n",
      "\n",
      "      \n",
      "<h1>Ooops!!! 500</h1>\n",
      "\n",
      "<h3>Looks like something went wrong!</h3>\n",
      "\n",
      "<p>We track these errors automatically, but if the problem persists feel free to contact us. In the meantime, try refreshing.</p>\n",
      "\n",
      "\n",
      "    </div> <!-- /container -->\n",
      "\n",
      "    \n",
      "\n",
      "    \n",
      "    \n",
      "    \n",
      "  </body>\n",
      "</html>\n",
      "\n"
     ]
    }
   ],
   "source": [
    "import requests\n",
    "\n",
    "url = f\"{client.host}/api/projects/f8e6b9bd-ef75-436f-97ea-e0e6f2858780/commit-logs/\"\n",
    "\n",
    "payload = {}\n",
    "headers = {\n",
    "  'Authorization': f'Token {client.token}'\n",
    "}\n",
    "\n",
    "response = requests.request(\"GET\", url, headers=headers, data=payload)\n",
    "\n",
    "print(response.text)"
   ]
  },
  {
   "attachments": {},
   "cell_type": "markdown",
   "id": "83af0c19",
   "metadata": {},
   "source": [
    "#### download data"
   ]
  },
  {
   "cell_type": "code",
   "execution_count": null,
   "id": "ce00a2c2",
   "metadata": {},
   "outputs": [],
   "source": [
    "import requests\n",
    "import json\n",
    "\n",
    "url = \"{}/api/original-dataset/{{folder_id}}/download-airflow-data/\"\n",
    "\n",
    "payload = json.dumps({\n",
    "  \"commit\": \"5e86f430c70d6a2da198bb705fb79451be94cba0\",\n",
    "  \"data_to_download\": \"data_synth\"\n",
    "})\n",
    "headers = {\n",
    "  'Content-Type': 'application/json',\n",
    "  'Authorization': 'Token {{token}}'\n",
    "}\n",
    "\n",
    "response = requests.request(\"POST\", url, headers=headers, data=payload)\n",
    "\n",
    "print(response.text)\n"
   ]
  }
 ],
 "metadata": {
  "kernelspec": {
   "display_name": "Python 3 (ipykernel)",
   "language": "python",
   "name": "python3"
  },
  "language_info": {
   "codemirror_mode": {
    "name": "ipython",
    "version": 3
   },
   "file_extension": ".py",
   "mimetype": "text/x-python",
   "name": "python",
   "nbconvert_exporter": "python",
   "pygments_lexer": "ipython3",
   "version": "3.10.10"
  }
 },
 "nbformat": 4,
 "nbformat_minor": 5
}
