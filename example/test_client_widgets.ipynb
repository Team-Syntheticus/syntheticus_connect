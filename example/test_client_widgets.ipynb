{
 "cells": [
  {
   "cell_type": "code",
   "execution_count": 1,
   "metadata": {},
   "outputs": [],
   "source": [
    "import sys\n",
    "try:\n",
    "    sys.path.insert(0, '..')\n",
    "    from syntheticus_connect import syntheticus_interface\n",
    "except ImportError:\n",
    "    from syntheticus_connect import syntheticus_interface"
   ]
  },
  {
   "cell_type": "markdown",
   "metadata": {},
   "source": [
    "### Print installed library version"
   ]
  },
  {
   "cell_type": "code",
   "execution_count": 2,
   "metadata": {},
   "outputs": [],
   "source": [
    "import syntheticus_connect"
   ]
  },
  {
   "cell_type": "code",
   "execution_count": 3,
   "metadata": {},
   "outputs": [
    {
     "name": "stdout",
     "output_type": "stream",
     "text": [
      "0.2.2\n"
     ]
    }
   ],
   "source": [
    "print(syntheticus_connect.__version__)"
   ]
  },
  {
   "cell_type": "markdown",
   "metadata": {},
   "source": [
    "### Intalization"
   ]
  },
  {
   "cell_type": "markdown",
   "metadata": {},
   "source": [
    "if the host variables are not privided to the constructor of the class or are not present in the environmental variable, the user will be presented with a value error that promt to provide them"
   ]
  },
  {
   "cell_type": "code",
   "execution_count": 4,
   "metadata": {},
   "outputs": [
    {
     "ename": "ValueError",
     "evalue": "Both DJANGO_URL and JUPYTERHUB_URL must be provided, either as environment variables or directly as arguments",
     "output_type": "error",
     "traceback": [
      "\u001b[1;31m---------------------------------------------------------------------------\u001b[0m",
      "\u001b[1;31mValueError\u001b[0m                                Traceback (most recent call last)",
      "\u001b[1;32mc:\\Users\\mazzo\\Documents\\SyntheticusConnect\\example\\test_client_widgets.ipynb Cell 7\u001b[0m line \u001b[0;36m1\n\u001b[1;32m----> <a href='vscode-notebook-cell:/c%3A/Users/mazzo/Documents/SyntheticusConnect/example/test_client_widgets.ipynb#W6sZmlsZQ%3D%3D?line=0'>1</a>\u001b[0m client \u001b[39m=\u001b[39m syntheticus_interface()\n",
      "File \u001b[1;32mc:\\Users\\mazzo\\Documents\\SyntheticusConnect\\example\\..\\syntheticus_connect\\syntheticus_interact.py:8\u001b[0m, in \u001b[0;36msyntheticus_interface.__init__\u001b[1;34m(self, host_django, host_airflow)\u001b[0m\n\u001b[0;32m      7\u001b[0m \u001b[39mdef\u001b[39;00m \u001b[39m__init__\u001b[39m(\u001b[39mself\u001b[39m, host_django\u001b[39m=\u001b[39m\u001b[39mNone\u001b[39;00m, host_airflow\u001b[39m=\u001b[39m\u001b[39mNone\u001b[39;00m):\n\u001b[1;32m----> 8\u001b[0m     \u001b[39msuper\u001b[39;49m()\u001b[39m.\u001b[39;49m\u001b[39m__init__\u001b[39;49m(host_django, host_airflow)\n",
      "File \u001b[1;32mc:\\Users\\mazzo\\Documents\\SyntheticusConnect\\example\\..\\syntheticus_connect\\syntheticus_client.py:45\u001b[0m, in \u001b[0;36msyntheticus_client.__init__\u001b[1;34m(self, host_django, host_airflow)\u001b[0m\n\u001b[0;32m     42\u001b[0m \u001b[39mself\u001b[39m\u001b[39m.\u001b[39mhost_airflow \u001b[39m=\u001b[39m host_airflow \u001b[39mor\u001b[39;00m os\u001b[39m.\u001b[39mgetenv(\u001b[39m'\u001b[39m\u001b[39mJUPYTERHUB_URL\u001b[39m\u001b[39m'\u001b[39m)\n\u001b[0;32m     44\u001b[0m \u001b[39mif\u001b[39;00m \u001b[39mnot\u001b[39;00m \u001b[39mself\u001b[39m\u001b[39m.\u001b[39mhost_django \u001b[39mor\u001b[39;00m \u001b[39mnot\u001b[39;00m \u001b[39mself\u001b[39m\u001b[39m.\u001b[39mhost_airflow:\n\u001b[1;32m---> 45\u001b[0m     \u001b[39mraise\u001b[39;00m \u001b[39mValueError\u001b[39;00m(\u001b[39m\"\u001b[39m\u001b[39mBoth DJANGO_URL and JUPYTERHUB_URL must be provided, either as environment variables or directly as arguments\u001b[39m\u001b[39m\"\u001b[39m)\n\u001b[0;32m     47\u001b[0m \u001b[39mself\u001b[39m\u001b[39m.\u001b[39mtoken \u001b[39m=\u001b[39m \u001b[39mNone\u001b[39;00m \u001b[39m# user token assigned at login\u001b[39;00m\n\u001b[0;32m     48\u001b[0m \u001b[39mself\u001b[39m\u001b[39m.\u001b[39muser \u001b[39m=\u001b[39m \u001b[39mNone\u001b[39;00m \u001b[39m# username\u001b[39;00m\n",
      "\u001b[1;31mValueError\u001b[0m: Both DJANGO_URL and JUPYTERHUB_URL must be provided, either as environment variables or directly as arguments"
     ]
    }
   ],
   "source": [
    "client = syntheticus_interface()"
   ]
  },
  {
   "cell_type": "markdown",
   "metadata": {},
   "source": [
    "how to use it when hosts are provided to the constructor. First django host second jupyterhub host"
   ]
  },
  {
   "cell_type": "code",
   "execution_count": 4,
   "metadata": {},
   "outputs": [],
   "source": [
    "client = syntheticus_interface(\"https://django.dev.syntheticus.ai\",\"http://airflow-webserver.dev.syntheticus.ai\")"
   ]
  },
  {
   "cell_type": "markdown",
   "metadata": {},
   "source": [
    "check if the host if the host variable have been set correctly"
   ]
  },
  {
   "cell_type": "code",
   "execution_count": 5,
   "metadata": {},
   "outputs": [
    {
     "name": "stdout",
     "output_type": "stream",
     "text": [
      "https://django.dev.syntheticus.ai\n",
      "http://airflow-webserver.dev.syntheticus.ai\n"
     ]
    }
   ],
   "source": [
    "print(client.host_django)\n",
    "print(client.host_airflow)"
   ]
  },
  {
   "cell_type": "markdown",
   "metadata": {},
   "source": [
    "### Login"
   ]
  },
  {
   "cell_type": "markdown",
   "metadata": {},
   "source": [
    "no widget"
   ]
  },
  {
   "cell_type": "code",
   "execution_count": 6,
   "metadata": {},
   "outputs": [
    {
     "data": {
      "text/plain": [
       "'Login successful.'"
      ]
     },
     "execution_count": 6,
     "metadata": {},
     "output_type": "execute_result"
    }
   ],
   "source": [
    "client.login(\"valerio_syntheticus\",\"ZHG9uvg@hkg-qnc7yqn\")"
   ]
  },
  {
   "cell_type": "markdown",
   "metadata": {},
   "source": [
    "widget"
   ]
  },
  {
   "cell_type": "code",
   "execution_count": 8,
   "metadata": {},
   "outputs": [
    {
     "data": {
      "application/vnd.jupyter.widget-view+json": {
       "model_id": "dd220a4dddd84e42a31155d5b81f701e",
       "version_major": 2,
       "version_minor": 0
      },
      "text/plain": [
       "Text(value='', placeholder='Username')"
      ]
     },
     "metadata": {},
     "output_type": "display_data"
    },
    {
     "data": {
      "application/vnd.jupyter.widget-view+json": {
       "model_id": "4e9eebbcc5a7425abcb27160a8e45acf",
       "version_major": 2,
       "version_minor": 0
      },
      "text/plain": [
       "Password(placeholder='Password')"
      ]
     },
     "metadata": {},
     "output_type": "display_data"
    },
    {
     "data": {
      "application/vnd.jupyter.widget-view+json": {
       "model_id": "744b56af54ec474291786b666043a623",
       "version_major": 2,
       "version_minor": 0
      },
      "text/plain": [
       "Button(description='Login', style=ButtonStyle())"
      ]
     },
     "metadata": {},
     "output_type": "display_data"
    },
    {
     "data": {
      "application/vnd.jupyter.widget-view+json": {
       "model_id": "817a79638dcd4076a6bc4531866784d8",
       "version_major": 2,
       "version_minor": 0
      },
      "text/plain": [
       "Output()"
      ]
     },
     "metadata": {},
     "output_type": "display_data"
    }
   ],
   "source": [
    "client.user_login()"
   ]
  },
  {
   "cell_type": "markdown",
   "metadata": {},
   "source": [
    "### Select projects"
   ]
  },
  {
   "cell_type": "markdown",
   "metadata": {},
   "source": [
    "If only one project available automatically select that one"
   ]
  },
  {
   "cell_type": "code",
   "execution_count": 13,
   "metadata": {},
   "outputs": [
    {
     "data": {
      "application/vnd.jupyter.widget-view+json": {
       "model_id": "b7d42a5c56e04346ae8c55259356c402",
       "version_major": 2,
       "version_minor": 0
      },
      "text/plain": [
       "VBox(children=(Dropdown(description='Select:', layout=Layout(width='auto'), options=('ID: 761c1761-a1cf-4072-9…"
      ]
     },
     "metadata": {},
     "output_type": "display_data"
    }
   ],
   "source": [
    "client.project_select()"
   ]
  },
  {
   "cell_type": "code",
   "execution_count": 15,
   "metadata": {},
   "outputs": [
    {
     "name": "stdout",
     "output_type": "stream",
     "text": [
      "demo\n",
      "761c1761-a1cf-4072-91bf-25527f6fa598\n"
     ]
    }
   ],
   "source": [
    "print(client.project_name)\n",
    "print(client.project_id)"
   ]
  },
  {
   "cell_type": "markdown",
   "metadata": {},
   "source": [
    "### Create a project"
   ]
  },
  {
   "cell_type": "markdown",
   "metadata": {},
   "source": [
    "call the method with one argument: project name. A unique ID will be assigned"
   ]
  },
  {
   "cell_type": "code",
   "execution_count": 10,
   "metadata": {},
   "outputs": [
    {
     "name": "stdout",
     "output_type": "stream",
     "text": [
      "Project created:\n",
      "ID: c71e2be2-713d-4f2a-bc04-6dd4a47494ba\n",
      "Name: demo3\n",
      "Created at: 2023-11-21T09:07:34+0000\n",
      "--------------------\n"
     ]
    }
   ],
   "source": [
    "client.create_project('demo3')"
   ]
  },
  {
   "cell_type": "markdown",
   "metadata": {},
   "source": [
    "### Upload dataset"
   ]
  },
  {
   "cell_type": "code",
   "execution_count": 13,
   "metadata": {},
   "outputs": [
    {
     "name": "stdout",
     "output_type": "stream",
     "text": [
      "Files uploaded successfully.\n"
     ]
    }
   ],
   "source": [
    "file_names = [\"iris.csv\", \"metadata.json\"]\n",
    "folder_path = \"../dataset\"\n",
    "dataset_name = 'iris'\n",
    "client.upload_data(dataset_name = dataset_name ,folder_path=folder_path, file_names=file_names)"
   ]
  },
  {
   "cell_type": "markdown",
   "metadata": {},
   "source": [
    "### Select a dataset within a project"
   ]
  },
  {
   "cell_type": "code",
   "execution_count": 18,
   "metadata": {},
   "outputs": [
    {
     "name": "stdout",
     "output_type": "stream",
     "text": [
      "+--------------+--------------------------------------+--------------------------------------+------------+-----------+----------------+-------------------+----------+\n",
      "| Dataset Name |              Dataset ID              |              Project ID              | Data Type  |   Size    | Number of Rows | Number of Columns |  Status  |\n",
      "+--------------+--------------------------------------+--------------------------------------+------------+-----------+----------------+-------------------+----------+\n",
      "|    users     | 6625573f-8c39-497a-ba83-5bfe56772611 | 761c1761-a1cf-4072-91bf-25527f6fa598 | Multitable | 135 Bytes |       10       |         4         | Selected |\n",
      "| transactions | 6625573f-8c39-497a-ba83-5bfe56772611 | 761c1761-a1cf-4072-91bf-25527f6fa598 | Multitable | 415 Bytes |       10       |         5         | Selected |\n",
      "|   sessions   | 6625573f-8c39-497a-ba83-5bfe56772611 | 761c1761-a1cf-4072-91bf-25527f6fa598 | Multitable | 239 Bytes |       10       |         5         | Selected |\n",
      "+--------------+--------------------------------------+--------------------------------------+------------+-----------+----------------+-------------------+----------+\n"
     ]
    }
   ],
   "source": [
    "client.get_datasets()"
   ]
  },
  {
   "cell_type": "code",
   "execution_count": 9,
   "metadata": {},
   "outputs": [
    {
     "data": {
      "application/vnd.jupyter.widget-view+json": {
       "model_id": "25b23ff700f14ca699313ff9d37a441e",
       "version_major": 2,
       "version_minor": 0
      },
      "text/plain": [
       "VBox(children=(Dropdown(description='Select:', layout=Layout(width='auto'), options=('Select a dataset', 'ID: …"
      ]
     },
     "metadata": {},
     "output_type": "display_data"
    }
   ],
   "source": [
    "client.dataset_select()"
   ]
  },
  {
   "cell_type": "markdown",
   "metadata": {},
   "source": [
    "### Upload the configuration file"
   ]
  },
  {
   "cell_type": "code",
   "execution_count": 11,
   "metadata": {},
   "outputs": [
    {
     "name": "stdout",
     "output_type": "stream",
     "text": [
      "A basic configuration file has been uploaded in the project 761c1761-a1cf-4072-91bf-25527f6fa598.\n",
      "If you want to modify the config file, open the file with demo.yaml and customize it.\n",
      "Once finished, save and upload again using the update_conf() method.\n"
     ]
    }
   ],
   "source": [
    "client.upload_conf()"
   ]
  },
  {
   "cell_type": "code",
   "execution_count": null,
   "metadata": {},
   "outputs": [],
   "source": [
    "client.update_conf()"
   ]
  },
  {
   "cell_type": "markdown",
   "metadata": {},
   "source": [
    "### Select a synthetization model"
   ]
  },
  {
   "cell_type": "code",
   "execution_count": 12,
   "metadata": {},
   "outputs": [
    {
     "name": "stdout",
     "output_type": "stream",
     "text": [
      "Available Models:\n",
      "+------------------+----------------------------------------+\n",
      "|     Model ID     |              Description               |\n",
      "+------------------+----------------------------------------+\n",
      "|   multiTableGC   |    Multi table statistical modeling    |\n",
      "|  multiTableHMA1  |  Multi table generative modeling HMA1  |\n",
      "| singleTableCTGAN | Single table generative modeling CTGAN |\n",
      "|  singleTableGC   |   Single table statistical modeling    |\n",
      "|    transform     |           Transforming data            |\n",
      "+------------------+----------------------------------------+\n"
     ]
    }
   ],
   "source": [
    "client.get_models()"
   ]
  },
  {
   "cell_type": "code",
   "execution_count": 19,
   "metadata": {},
   "outputs": [
    {
     "data": {
      "application/vnd.jupyter.widget-view+json": {
       "model_id": "25cc4806d5ec40e1bfaaacda006694db",
       "version_major": 2,
       "version_minor": 0
      },
      "text/plain": [
       "VBox(children=(Dropdown(description='Select:', layout=Layout(width='auto'), options=('Select a model', 'Name: …"
      ]
     },
     "metadata": {},
     "output_type": "display_data"
    }
   ],
   "source": [
    "client.model_select()"
   ]
  },
  {
   "cell_type": "markdown",
   "metadata": {},
   "source": [
    "### Fit the model"
   ]
  },
  {
   "cell_type": "code",
   "execution_count": 20,
   "metadata": {},
   "outputs": [
    {
     "name": "stdout",
     "output_type": "stream",
     "text": [
      "Synthesis Information:\n",
      "Project: demo (ID: 761c1761-a1cf-4072-91bf-25527f6fa598)\n",
      "Dataset: transactions (ID: 6625573f-8c39-497a-ba83-5bfe56772611)\n",
      "Model: multiTableGC\n",
      "Configuration File: None\n"
     ]
    },
    {
     "data": {
      "text/plain": [
       "'Synthesis triggered successfully!'"
      ]
     },
     "execution_count": 20,
     "metadata": {},
     "output_type": "execute_result"
    }
   ],
   "source": [
    "client.synthetize()"
   ]
  },
  {
   "cell_type": "code",
   "execution_count": null,
   "metadata": {},
   "outputs": [],
   "source": [
    "client.commit_select()"
   ]
  },
  {
   "cell_type": "code",
   "execution_count": 21,
   "metadata": {},
   "outputs": [
    {
     "data": {
      "application/vnd.jupyter.widget-view+json": {
       "model_id": "d709efacd00a45cba092895776bab24c",
       "version_major": 2,
       "version_minor": 0
      },
      "text/plain": [
       "VBox(children=(RadioButtons(description='Data to Download:', options=('data_synth', 'models', 'report', 'confi…"
      ]
     },
     "execution_count": 21,
     "metadata": {},
     "output_type": "execute_result"
    }
   ],
   "source": [
    "client.download()"
   ]
  }
 ],
 "metadata": {
  "kernelspec": {
   "display_name": "base",
   "language": "python",
   "name": "python3"
  },
  "language_info": {
   "codemirror_mode": {
    "name": "ipython",
    "version": 3
   },
   "file_extension": ".py",
   "mimetype": "text/x-python",
   "name": "python",
   "nbconvert_exporter": "python",
   "pygments_lexer": "ipython3",
   "version": "3.10.10"
  },
  "orig_nbformat": 4
 },
 "nbformat": 4,
 "nbformat_minor": 2
}
