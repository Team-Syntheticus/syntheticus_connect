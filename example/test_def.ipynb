{
 "cells": [
  {
   "cell_type": "code",
   "execution_count": 2,
   "metadata": {},
   "outputs": [],
   "source": [
    "import sys\n",
    "try:\n",
    "    sys.path.insert(0, '..')\n",
    "    from syntheticus_connect import syntheticus_client\n",
    "except ImportError:\n",
    "    from syntheticus_connect import syntheticus_client"
   ]
  },
  {
   "attachments": {},
   "cell_type": "markdown",
   "metadata": {},
   "source": [
    "## Setup the client"
   ]
  },
  {
   "attachments": {},
   "cell_type": "markdown",
   "metadata": {},
   "source": [
    "#### specify the deployment URL"
   ]
  },
  {
   "cell_type": "code",
   "execution_count": 3,
   "metadata": {},
   "outputs": [],
   "source": [
    "client = syntheticus_client(host=\"http://34.65.63.14\")"
   ]
  },
  {
   "attachments": {},
   "cell_type": "markdown",
   "metadata": {},
   "source": [
    "#### specify your credential"
   ]
  },
  {
   "cell_type": "code",
   "execution_count": 4,
   "metadata": {},
   "outputs": [
    {
     "data": {
      "text/plain": [
       "'Login successful.'"
      ]
     },
     "execution_count": 4,
     "metadata": {},
     "output_type": "execute_result"
    }
   ],
   "source": [
    "client.login(username=\"demo_user\", password=\"demo_user\")"
   ]
  },
  {
   "attachments": {},
   "cell_type": "markdown",
   "metadata": {},
   "source": [
    "## Create, list, delete projects and datasets"
   ]
  },
  {
   "attachments": {},
   "cell_type": "markdown",
   "metadata": {},
   "source": [
    "#### List projects"
   ]
  },
  {
   "cell_type": "code",
   "execution_count": 5,
   "metadata": {},
   "outputs": [
    {
     "name": "stdout",
     "output_type": "stream",
     "text": [
      "Projects:\n",
      "+--------------------------------------+-------------------------+--------------------------+\n",
      "|              Project ID              |      Project Name       |        Created At        |\n",
      "+--------------------------------------+-------------------------+--------------------------+\n",
      "| 1717f8d0-150b-4c04-b283-8dbbab4de6c0 | demo_project_1_05072023 | 2023-07-05T10:03:56+0000 |\n",
      "| 15c4f11b-45b0-4cf1-a49b-6df2748774d7 | demo_project_2_05072023 | 2023-07-05T14:45:18+0000 |\n",
      "| b824d53a-1e83-48b8-854c-2be049271925 | demo_project_3_05072023 | 2023-07-06T09:41:09+0000 |\n",
      "| e329a9c7-13d0-4c29-b9fe-90786024dac0 | demo_project_4_05072023 | 2023-07-06T10:20:48+0000 |\n",
      "| f8e6b9bd-ef75-436f-97ea-e0e6f2858780 | demo_project_5_05072023 | 2023-07-06T10:50:44+0000 |\n",
      "+--------------------------------------+-------------------------+--------------------------+\n"
     ]
    }
   ],
   "source": [
    "client.get_projects()"
   ]
  },
  {
   "attachments": {},
   "cell_type": "markdown",
   "metadata": {},
   "source": [
    "#### Create and delete a project"
   ]
  },
  {
   "cell_type": "code",
   "execution_count": 12,
   "metadata": {},
   "outputs": [
    {
     "name": "stdout",
     "output_type": "stream",
     "text": [
      "Project created:\n",
      "ID: f3e53b48-2ced-4d74-8225-8f0fc46d759e\n",
      "Name: test_project\n",
      "Created at: 2023-06-27T13:17:07+0000\n",
      "--------------------\n"
     ]
    }
   ],
   "source": [
    "client.create_project(\"test_project\")"
   ]
  },
  {
   "cell_type": "code",
   "execution_count": 11,
   "metadata": {},
   "outputs": [
    {
     "data": {
      "text/plain": [
       "'Error deleting project.'"
      ]
     },
     "execution_count": 11,
     "metadata": {},
     "output_type": "execute_result"
    }
   ],
   "source": [
    "client.delete_project('f8e6b9bd-ef75-436f-97ea-e0e6f2858780')"
   ]
  },
  {
   "attachments": {},
   "cell_type": "markdown",
   "metadata": {},
   "source": [
    "#### List the datasets in a projects"
   ]
  },
  {
   "cell_type": "code",
   "execution_count": 12,
   "metadata": {},
   "outputs": [
    {
     "name": "stdout",
     "output_type": "stream",
     "text": [
      "{'count': 8, 'next': None, 'previous': None, 'results': [{'id': '8c206012-b831-4b77-982e-6be422750ed3', 'project': 'f8e6b9bd-ef75-436f-97ea-e0e6f2858780', 'folder_name': 'irissss_07/06/2023_13:47:10', 'data_type': 'Tabular', 'datasets': []}, {'id': 'a17098de-b049-4cae-a35e-36bed149f229', 'project': 'f8e6b9bd-ef75-436f-97ea-e0e6f2858780', 'folder_name': 'irissss_07/06/2023_13:43:18', 'data_type': 'Tabular', 'datasets': []}, {'id': '9e79ccb9-8953-443e-8a02-6fc0f1467504', 'project': 'f8e6b9bd-ef75-436f-97ea-e0e6f2858780', 'folder_name': 'iris_new_07/06/2023_13:42:44', 'data_type': 'Tabular', 'datasets': []}, {'id': '13d9180f-bbed-40fa-bff0-e3a8e8b5cb8b', 'project': 'f8e6b9bd-ef75-436f-97ea-e0e6f2858780', 'folder_name': 'iris_new_07/06/2023_13:38:21', 'data_type': 'Tabular', 'datasets': []}, {'id': '693725f1-11e7-42bf-aeae-ac9a725dc1e6', 'project': 'f8e6b9bd-ef75-436f-97ea-e0e6f2858780', 'folder_name': 'iris_new_07/06/2023_13:38:01', 'data_type': 'Tabular', 'datasets': []}, {'id': 'f104f6fa-992a-4d91-bef0-5f81f4de8179', 'project': 'f8e6b9bd-ef75-436f-97ea-e0e6f2858780', 'folder_name': 'iris_new_07/06/2023_12:56:20', 'data_type': 'Tabular', 'datasets': []}, {'id': 'b94dc230-cf31-4fc4-b26e-ed11cff448f7', 'project': 'f8e6b9bd-ef75-436f-97ea-e0e6f2858780', 'folder_name': 'iris_07/06/2023_12:53:50', 'data_type': 'Tabular', 'datasets': []}, {'id': '854b08fa-ab8b-47f2-a126-29f0d9783899', 'project': 'f8e6b9bd-ef75-436f-97ea-e0e6f2858780', 'folder_name': 'iris_07/06/2023_10:51:51', 'data_type': 'Tabular', 'datasets': [{'id': 'dd5df4e4-fad9-49ee-8006-e810a6ae34d0', 'original_file_name': 'metadata.json', 'size': '492 Bytes', 'created_at': '2023-07-06T10:51:51+0000', 'datasets': [{'id': 'f72c734a-4dcc-4d50-bac2-ae5b792d6f1f', 'dataset_name': 'iris', 'size': '3.9 kB', 'rows_number': 150, 'dataset_metadata': {'column_names': ['sepal.length', 'sepal.width', 'petal.length', 'petal.width', 'variety'], 'column_types': {'variety': 'categorical', 'petal.width': 'numerical', 'sepal.width': 'numerical', 'petal.length': 'numerical', 'sepal.length': 'numerical'}}, 'created_at': '2023-07-06T10:51:51+0000'}], 'resourcetype': 'DatasetRelation'}]}]}\n"
     ]
    }
   ],
   "source": [
    "import json\n",
    "import requests\n",
    "url = f\"{client.host}/api/projects/f8e6b9bd-ef75-436f-97ea-e0e6f2858780/list-dataset-folders/\"\n",
    "\n",
    "payload = {}\n",
    "files = {}\n",
    "headers = {\n",
    "'Authorization': f'Token {client.token}'\n",
    "}\n",
    "\n",
    "response = requests.request(\"GET\", url, headers=headers, data=payload, files=files)\n",
    "data = json.loads(response.text)\n",
    "print(data)"
   ]
  },
  {
   "cell_type": "code",
   "execution_count": 13,
   "metadata": {},
   "outputs": [
    {
     "name": "stdout",
     "output_type": "stream",
     "text": [
      "+--------------+--------------------------------------+--------------------------------------+-----------+--------+----------------+-------------------+\n",
      "| Dataset Name |              Dataset ID              |              Project ID              | Data Type |  Size  | Number of Rows | Number of Columns |\n",
      "+--------------+--------------------------------------+--------------------------------------+-----------+--------+----------------+-------------------+\n",
      "|     iris     | f72c734a-4dcc-4d50-bac2-ae5b792d6f1f | f8e6b9bd-ef75-436f-97ea-e0e6f2858780 |  Tabular  | 3.9 kB |      150       |         5         |\n",
      "+--------------+--------------------------------------+--------------------------------------+-----------+--------+----------------+-------------------+\n"
     ]
    }
   ],
   "source": [
    "client.get_datasets('f8e6b9bd-ef75-436f-97ea-e0e6f2858780')"
   ]
  },
  {
   "attachments": {},
   "cell_type": "markdown",
   "metadata": {},
   "source": [
    "#### Upload dataset in a project"
   ]
  },
  {
   "attachments": {},
   "cell_type": "markdown",
   "metadata": {},
   "source": [
    "file names should contain the list of files you want to upload: \\\n",
    "**file_names:** \\\n",
    "*single table* the dataset should be composed by at least a csv and a json file \\\n",
    "*multi table*  the dataset should be composed by at least multiple csv and a json file \\\n",
    "**folder_path:** \\\n",
    "path to the data files \\\n",
    "**dataset_name** \\\n",
    "name to be assign to the specific dataset on the syntheticus app"
   ]
  },
  {
   "cell_type": "code",
   "execution_count": 27,
   "metadata": {},
   "outputs": [
    {
     "name": "stdout",
     "output_type": "stream",
     "text": [
      "Files uploaded successfully.\n"
     ]
    },
    {
     "data": {
      "text/plain": [
       "<Response [200]>"
      ]
     },
     "execution_count": 27,
     "metadata": {},
     "output_type": "execute_result"
    }
   ],
   "source": [
    "project_id = 'b824d53a-1e83-48b8-854c-2be049271925'\n",
    "file_names = [\"iris.csv\", \"metadata.json\"]\n",
    "folder_path = \"../dataset\"\n",
    "dataset_name = 'irissss'\n",
    "client.upload_data(project_id=project_id , dataset_name = dataset_name ,folder_path=folder_path, file_names=file_names)"
   ]
  },
  {
   "attachments": {},
   "cell_type": "markdown",
   "metadata": {},
   "source": [
    "#### Upload configuration file"
   ]
  },
  {
   "cell_type": "code",
   "execution_count": 15,
   "metadata": {},
   "outputs": [
    {
     "name": "stdout",
     "output_type": "stream",
     "text": [
      "{\"detail\":\"Not found.\"}\n"
     ]
    }
   ],
   "source": [
    "project_id = 'dd5df4e4-fad9-49ee-8006-e810a6ae34d0'\n",
    "file_path = \"../dataset/base.yaml\"\n",
    "client.upload_conf(project_id, file_path)"
   ]
  },
  {
   "attachments": {},
   "cell_type": "markdown",
   "metadata": {},
   "source": [
    "#### list the models available"
   ]
  },
  {
   "cell_type": "code",
   "execution_count": 11,
   "metadata": {},
   "outputs": [
    {
     "name": "stdout",
     "output_type": "stream",
     "text": [
      "Available Models:\n",
      "Model name: multiTableGC, description: Multi table statistical modeling\n",
      "Model name: multiTableHMA1, description: Multi table generative modeling HMA1\n",
      "Model name: singleTableCTGAN, description: Single table generative modeling CTGAN\n",
      "Model name: singleTableGC, description: Single table statistical modeling\n",
      "Model name: transform, description: Transforming data\n"
     ]
    }
   ],
   "source": [
    "client.list_models()"
   ]
  },
  {
   "attachments": {},
   "cell_type": "markdown",
   "metadata": {},
   "source": [
    "#### Setup the parameter for the synthetization and run"
   ]
  },
  {
   "cell_type": "code",
   "execution_count": 8,
   "metadata": {},
   "outputs": [],
   "source": [
    "client.project_id = 'f8e6b9bd-ef75-436f-97ea-e0e6f2858780' # Chose the project you want to work with\n",
    "client.dag_id = 'singleTableGC' # Choose a suitable model from the models list\n",
    "client.synthetize()"
   ]
  }
 ],
 "metadata": {
  "kernelspec": {
   "display_name": "Python 3 (ipykernel)",
   "language": "python",
   "name": "python3"
  },
  "language_info": {
   "codemirror_mode": {
    "name": "ipython",
    "version": 3
   },
   "file_extension": ".py",
   "mimetype": "text/x-python",
   "name": "python",
   "nbconvert_exporter": "python",
   "pygments_lexer": "ipython3",
   "version": "3.10.10"
  }
 },
 "nbformat": 4,
 "nbformat_minor": 2
}
