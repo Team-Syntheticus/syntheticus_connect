{
 "cells": [
  {
   "attachments": {},
   "cell_type": "markdown",
   "metadata": {},
   "source": [
    "## Import client"
   ]
  },
  {
   "cell_type": "code",
   "execution_count": 1,
   "metadata": {},
   "outputs": [],
   "source": [
    "import sys\n",
    "try:\n",
    "    sys.path.insert(0, '..')\n",
    "    from syntheticus_connect import syntheticus_client\n",
    "except ImportError:\n",
    "    from syntheticus_connect import syntheticus_client"
   ]
  },
  {
   "attachments": {},
   "cell_type": "markdown",
   "metadata": {},
   "source": [
    "## Setup the client"
   ]
  },
  {
   "attachments": {},
   "cell_type": "markdown",
   "metadata": {},
   "source": [
    "#### specify the deployment URL"
   ]
  },
  {
   "cell_type": "code",
   "execution_count": 2,
   "metadata": {},
   "outputs": [],
   "source": [
    "client = syntheticus_client(host=\"http://34.65.63.14\")"
   ]
  },
  {
   "attachments": {},
   "cell_type": "markdown",
   "metadata": {},
   "source": [
    "#### specify your credential"
   ]
  },
  {
   "cell_type": "code",
   "execution_count": null,
   "metadata": {},
   "outputs": [],
   "source": [
    "client.register(username = \"valerio\", email = \"test@gmail.com\", password = \"valerio1234\")"
   ]
  },
  {
   "cell_type": "code",
   "execution_count": 3,
   "metadata": {},
   "outputs": [
    {
     "data": {
      "text/plain": [
       "'Login successful.'"
      ]
     },
     "execution_count": 3,
     "metadata": {},
     "output_type": "execute_result"
    }
   ],
   "source": [
    "client.login(username=\"valerio\", password=\"valerio1234\")"
   ]
  },
  {
   "attachments": {},
   "cell_type": "markdown",
   "metadata": {},
   "source": [
    "## Create, list, delete projects and datasets"
   ]
  },
  {
   "attachments": {},
   "cell_type": "markdown",
   "metadata": {},
   "source": [
    "#### List projects"
   ]
  },
  {
   "cell_type": "code",
   "execution_count": 4,
   "metadata": {},
   "outputs": [
    {
     "name": "stdout",
     "output_type": "stream",
     "text": [
      "Projects:\n",
      "+--------------------------------------+---------------+--------------------------+--------------+\n",
      "|              Project ID              | Project Name  |        Created At        |    Status    |\n",
      "+--------------------------------------+---------------+--------------------------+--------------+\n",
      "| 88d4fec4-a26e-4895-bb1e-42fd4322fea8 | test_project1 | 2023-07-07T13:39:50+0000 | Not Selected |\n",
      "| d5cfa4bc-942a-4b89-9cea-81d54979b1b9 | test_project1 | 2023-07-21T09:39:47+0000 | Not Selected |\n",
      "+--------------------------------------+---------------+--------------------------+--------------+\n"
     ]
    }
   ],
   "source": [
    "client.get_projects()"
   ]
  },
  {
   "attachments": {},
   "cell_type": "markdown",
   "metadata": {},
   "source": [
    "#### Create and delete a project"
   ]
  },
  {
   "cell_type": "code",
   "execution_count": null,
   "metadata": {},
   "outputs": [],
   "source": [
    "client.create_project(\"test_project1\")"
   ]
  },
  {
   "cell_type": "code",
   "execution_count": null,
   "metadata": {},
   "outputs": [],
   "source": [
    "client.delete_project('3b5e04df-8b1d-48da-a019-0aba96c12bd4')"
   ]
  },
  {
   "attachments": {},
   "cell_type": "markdown",
   "metadata": {},
   "source": [
    "#### Select project"
   ]
  },
  {
   "cell_type": "code",
   "execution_count": 5,
   "metadata": {},
   "outputs": [
    {
     "name": "stdout",
     "output_type": "stream",
     "text": [
      "Project selected: 88d4fec4-a26e-4895-bb1e-42fd4322fea8 with name test_project1\n"
     ]
    }
   ],
   "source": [
    "client.select_project('88d4fec4-a26e-4895-bb1e-42fd4322fea8')"
   ]
  },
  {
   "attachments": {},
   "cell_type": "markdown",
   "metadata": {},
   "source": [
    "#### List the datasets in a projects"
   ]
  },
  {
   "cell_type": "code",
   "execution_count": 6,
   "metadata": {},
   "outputs": [
    {
     "name": "stdout",
     "output_type": "stream",
     "text": [
      "+--------------+--------------------------------------+--------------------------------------+-----------+--------+----------------+-------------------+--------------+\n",
      "| Dataset Name |              Dataset ID              |              Project ID              | Data Type |  Size  | Number of Rows | Number of Columns |    Status    |\n",
      "+--------------+--------------------------------------+--------------------------------------+-----------+--------+----------------+-------------------+--------------+\n",
      "|     iris     | 0ed12fae-54cc-454b-b002-1b86160aafcc | 88d4fec4-a26e-4895-bb1e-42fd4322fea8 |  Tabular  | 4.8 kB |      150       |         5         | Not Selected |\n",
      "+--------------+--------------------------------------+--------------------------------------+-----------+--------+----------------+-------------------+--------------+\n"
     ]
    }
   ],
   "source": [
    "client.get_datasets()"
   ]
  },
  {
   "attachments": {},
   "cell_type": "markdown",
   "metadata": {},
   "source": [
    "#### Select dataset"
   ]
  },
  {
   "cell_type": "code",
   "execution_count": 7,
   "metadata": {},
   "outputs": [
    {
     "name": "stdout",
     "output_type": "stream",
     "text": [
      "Dataset selected: 0ed12fae-54cc-454b-b002-1b86160aafcc with name iris\n"
     ]
    }
   ],
   "source": [
    "client.select_dataset('0ed12fae-54cc-454b-b002-1b86160aafcc')"
   ]
  },
  {
   "attachments": {},
   "cell_type": "markdown",
   "metadata": {},
   "source": [
    "#### Upload dataset in a project"
   ]
  },
  {
   "attachments": {},
   "cell_type": "markdown",
   "metadata": {},
   "source": [
    "file names should contain the list of files you want to upload: \\\n",
    "**file_names:** \\\n",
    "*single table* the dataset should be composed by at least a csv and a json file \\\n",
    "*multi table*  the dataset should be composed by at least multiple csv and a json file \\\n",
    "**folder_path:** \\\n",
    "path to the data files \\\n",
    "**dataset_name** \\\n",
    "name to be assign to the specific dataset on the syntheticus app"
   ]
  },
  {
   "cell_type": "code",
   "execution_count": null,
   "metadata": {},
   "outputs": [],
   "source": [
    "file_names = [\"iris.csv\", \"metadata.json\"]\n",
    "folder_path = \"../dataset\" # folder in the local machine (if you re running the notebook locally)\n",
    "dataset_name = 'iris'\n",
    "client.upload_data(dataset_name = dataset_name ,folder_path=folder_path, file_names=file_names)"
   ]
  },
  {
   "attachments": {},
   "cell_type": "markdown",
   "metadata": {},
   "source": [
    "#### Upload configuration file"
   ]
  },
  {
   "cell_type": "code",
   "execution_count": 9,
   "metadata": {},
   "outputs": [
    {
     "name": "stdout",
     "output_type": "stream",
     "text": [
      "A basic configuration file has been uploaded in the project 88d4fec4-a26e-4895-bb1e-42fd4322fea8.\n",
      "If you want to modify the config file, open the file with test_project1.yaml and customize it.\n",
      "Once finished, save and upload again using the update_conf() method.\n"
     ]
    }
   ],
   "source": [
    "client.upload_conf()"
   ]
  },
  {
   "cell_type": "code",
   "execution_count": null,
   "metadata": {},
   "outputs": [],
   "source": [
    "client.update_conf()"
   ]
  },
  {
   "attachments": {},
   "cell_type": "markdown",
   "metadata": {},
   "source": [
    "#### List the models available"
   ]
  },
  {
   "cell_type": "code",
   "execution_count": null,
   "metadata": {},
   "outputs": [],
   "source": [
    "client.get_models()"
   ]
  },
  {
   "attachments": {},
   "cell_type": "markdown",
   "metadata": {},
   "source": [
    "#### Select model"
   ]
  },
  {
   "cell_type": "code",
   "execution_count": null,
   "metadata": {},
   "outputs": [],
   "source": [
    "client.select_model('singleTableGC')"
   ]
  },
  {
   "attachments": {},
   "cell_type": "markdown",
   "metadata": {},
   "source": [
    "#### Run the synthetization"
   ]
  },
  {
   "cell_type": "code",
   "execution_count": null,
   "metadata": {},
   "outputs": [],
   "source": [
    "client.synthetize()"
   ]
  },
  {
   "cell_type": "code",
   "execution_count": 8,
   "metadata": {},
   "outputs": [
    {
     "name": "stdout",
     "output_type": "stream",
     "text": [
      "List of experiment in the project selected:88d4fec4-a26e-4895-bb1e-42fd4322fea8.\n",
      "+------------------------------------------+-----------------------------------------------------------------+\n",
      "|                  commit                  |                             subject                             |\n",
      "+------------------------------------------+-----------------------------------------------------------------+\n",
      "| 56b4019bbc951324e45d7fe173e554522d7616ba | Committed new versions of experiment, time: 2023/07/07-14:53:31 |\n",
      "| 23a10efd26594ca86ce9382ca7b3e26449f27e60 | Committed new versions of experiment, time: 2023/07/07-14:31:20 |\n",
      "+------------------------------------------+-----------------------------------------------------------------+\n"
     ]
    }
   ],
   "source": [
    "client.list_commits()"
   ]
  },
  {
   "cell_type": "code",
   "execution_count": null,
   "metadata": {},
   "outputs": [],
   "source": [
    "client.select_commit('23a10efd26594ca86ce9382ca7b3e26449f27e60')"
   ]
  },
  {
   "cell_type": "code",
   "execution_count": null,
   "metadata": {},
   "outputs": [],
   "source": [
    "client.download_data('data_synth')"
   ]
  },
  {
   "cell_type": "code",
   "execution_count": null,
   "metadata": {},
   "outputs": [],
   "source": [
    "client.logout()"
   ]
  }
 ],
 "metadata": {
  "kernelspec": {
   "display_name": "Python 3 (ipykernel)",
   "language": "python",
   "name": "python3"
  },
  "language_info": {
   "codemirror_mode": {
    "name": "ipython",
    "version": 3
   },
   "file_extension": ".py",
   "mimetype": "text/x-python",
   "name": "python",
   "nbconvert_exporter": "python",
   "pygments_lexer": "ipython3",
   "version": "3.10.10"
  }
 },
 "nbformat": 4,
 "nbformat_minor": 2
}
