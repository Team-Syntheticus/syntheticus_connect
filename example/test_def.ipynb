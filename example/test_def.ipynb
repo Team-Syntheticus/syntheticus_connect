{
 "cells": [
  {
   "attachments": {},
   "cell_type": "markdown",
   "metadata": {},
   "source": [
    "## Import client"
   ]
  },
  {
   "cell_type": "code",
   "execution_count": 1,
   "metadata": {},
   "outputs": [],
   "source": [
    "import sys\n",
    "try:\n",
    "    sys.path.insert(0, '..')\n",
    "    from syntheticus_connect import syntheticus_client\n",
    "except ImportError:\n",
    "    from syntheticus_connect import syntheticus_client"
   ]
  },
  {
   "attachments": {},
   "cell_type": "markdown",
   "metadata": {},
   "source": [
    "## Setup the client"
   ]
  },
  {
   "attachments": {},
   "cell_type": "markdown",
   "metadata": {},
   "source": [
    "#### specify the deployment URL"
   ]
  },
  {
   "cell_type": "code",
   "execution_count": 2,
   "metadata": {},
   "outputs": [],
   "source": [
    "client = syntheticus_client(host=\"http://34.65.63.14\")"
   ]
  },
  {
   "attachments": {},
   "cell_type": "markdown",
   "metadata": {},
   "source": [
    "#### specify your credential"
   ]
  },
  {
   "cell_type": "code",
   "execution_count": null,
   "metadata": {},
   "outputs": [],
   "source": [
    "client.register(username = \"valerio\", email = \"test@gmail.com\", password = \"valerio1234\")"
   ]
  },
  {
   "cell_type": "code",
   "execution_count": 18,
   "metadata": {},
   "outputs": [
    {
     "data": {
      "text/plain": [
       "'Login successful.'"
      ]
     },
     "execution_count": 18,
     "metadata": {},
     "output_type": "execute_result"
    }
   ],
   "source": [
    "client.login(username=\"valerio\", password=\"valerio1234\")"
   ]
  },
  {
   "attachments": {},
   "cell_type": "markdown",
   "metadata": {},
   "source": [
    "## Create, list, delete projects and datasets"
   ]
  },
  {
   "attachments": {},
   "cell_type": "markdown",
   "metadata": {},
   "source": [
    "#### List projects"
   ]
  },
  {
   "cell_type": "code",
   "execution_count": 35,
   "metadata": {},
   "outputs": [
    {
     "name": "stdout",
     "output_type": "stream",
     "text": [
      "Projects:\n",
      "+--------------------------------------+---------------+--------------------------+--------------+\n",
      "|              Project ID              | Project Name  |        Created At        |    Status    |\n",
      "+--------------------------------------+---------------+--------------------------+--------------+\n",
      "| 88d4fec4-a26e-4895-bb1e-42fd4322fea8 | test_project1 | 2023-07-07T13:39:50+0000 | Not Selected |\n",
      "| d5cfa4bc-942a-4b89-9cea-81d54979b1b9 | test_project1 | 2023-07-21T09:39:47+0000 | Not Selected |\n",
      "+--------------------------------------+---------------+--------------------------+--------------+\n"
     ]
    }
   ],
   "source": [
    "client.get_projects()"
   ]
  },
  {
   "attachments": {},
   "cell_type": "markdown",
   "metadata": {},
   "source": [
    "#### Create and delete a project"
   ]
  },
  {
   "cell_type": "code",
   "execution_count": null,
   "metadata": {},
   "outputs": [],
   "source": [
    "client.create_project(\"test_project1\")"
   ]
  },
  {
   "cell_type": "code",
   "execution_count": null,
   "metadata": {},
   "outputs": [],
   "source": [
    "client.delete_project('3b5e04df-8b1d-48da-a019-0aba96c12bd4')"
   ]
  },
  {
   "attachments": {},
   "cell_type": "markdown",
   "metadata": {},
   "source": [
    "#### Select project"
   ]
  },
  {
   "cell_type": "code",
   "execution_count": 36,
   "metadata": {},
   "outputs": [
    {
     "name": "stdout",
     "output_type": "stream",
     "text": [
      "Project selected: d5cfa4bc-942a-4b89-9cea-81d54979b1b9 with name test_project1\n"
     ]
    }
   ],
   "source": [
    "client.select_project('d5cfa4bc-942a-4b89-9cea-81d54979b1b9')"
   ]
  },
  {
   "attachments": {},
   "cell_type": "markdown",
   "metadata": {},
   "source": [
    "#### List the datasets in a projects"
   ]
  },
  {
   "cell_type": "code",
   "execution_count": 37,
   "metadata": {},
   "outputs": [
    {
     "name": "stdout",
     "output_type": "stream",
     "text": [
      "+--------------+--------------------------------------+--------------------------------------+-----------+--------+----------------+-------------------+--------------+\n",
      "| Dataset Name |              Dataset ID              |              Project ID              | Data Type |  Size  | Number of Rows | Number of Columns |    Status    |\n",
      "+--------------+--------------------------------------+--------------------------------------+-----------+--------+----------------+-------------------+--------------+\n",
      "|     iris     | f2101284-125e-4924-89dd-803ec459fffa | d5cfa4bc-942a-4b89-9cea-81d54979b1b9 |  Tabular  | 4.8 kB |      150       |         5         | Not Selected |\n",
      "+--------------+--------------------------------------+--------------------------------------+-----------+--------+----------------+-------------------+--------------+\n"
     ]
    }
   ],
   "source": [
    "client.get_datasets()"
   ]
  },
  {
   "attachments": {},
   "cell_type": "markdown",
   "metadata": {},
   "source": [
    "#### Select dataset"
   ]
  },
  {
   "cell_type": "code",
   "execution_count": 38,
   "metadata": {},
   "outputs": [
    {
     "name": "stdout",
     "output_type": "stream",
     "text": [
      "Dataset selected: f2101284-125e-4924-89dd-803ec459fffa with name iris\n"
     ]
    }
   ],
   "source": [
    "client.select_dataset('f2101284-125e-4924-89dd-803ec459fffa')"
   ]
  },
  {
   "attachments": {},
   "cell_type": "markdown",
   "metadata": {},
   "source": [
    "#### Upload dataset in a project"
   ]
  },
  {
   "attachments": {},
   "cell_type": "markdown",
   "metadata": {},
   "source": [
    "file names should contain the list of files you want to upload: \\\n",
    "**file_names:** \\\n",
    "*single table* the dataset should be composed by at least a csv and a json file \\\n",
    "*multi table*  the dataset should be composed by at least multiple csv and a json file \\\n",
    "**folder_path:** \\\n",
    "path to the data files \\\n",
    "**dataset_name** \\\n",
    "name to be assign to the specific dataset on the syntheticus app"
   ]
  },
  {
   "cell_type": "code",
   "execution_count": 21,
   "metadata": {},
   "outputs": [
    {
     "name": "stdout",
     "output_type": "stream",
     "text": [
      "Files uploaded successfully.\n"
     ]
    }
   ],
   "source": [
    "file_names = [\"iris.csv\", \"metadata.json\"]\n",
    "folder_path = \"../dataset\" # folder in the local machine (if you re running the notebook locally)\n",
    "dataset_name = 'iris'\n",
    "client.upload_data(dataset_name = dataset_name ,folder_path=folder_path, file_names=file_names)"
   ]
  },
  {
   "attachments": {},
   "cell_type": "markdown",
   "metadata": {},
   "source": [
    "#### Upload configuration file"
   ]
  },
  {
   "cell_type": "code",
   "execution_count": 32,
   "metadata": {},
   "outputs": [
    {
     "name": "stdout",
     "output_type": "stream",
     "text": [
      "Error occurred while uploading the configuration file: {\"detail\":\"Not found.\"}\n"
     ]
    }
   ],
   "source": [
    "client.upload_conf()"
   ]
  },
  {
   "cell_type": "code",
   "execution_count": null,
   "metadata": {},
   "outputs": [],
   "source": [
    "client.update_conf()"
   ]
  },
  {
   "attachments": {},
   "cell_type": "markdown",
   "metadata": {},
   "source": [
    "#### List the models available"
   ]
  },
  {
   "cell_type": "code",
   "execution_count": 26,
   "metadata": {},
   "outputs": [
    {
     "name": "stdout",
     "output_type": "stream",
     "text": [
      "Available Models:\n",
      "+------------------+----------------------------------------+\n",
      "|     Model ID     |              Description               |\n",
      "+------------------+----------------------------------------+\n",
      "|   multiTableGC   |    Multi table statistical modeling    |\n",
      "|  multiTableHMA1  |  Multi table generative modeling HMA1  |\n",
      "| singleTableCTGAN | Single table generative modeling CTGAN |\n",
      "|  singleTableGC   |   Single table statistical modeling    |\n",
      "|    transform     |           Transforming data            |\n",
      "+------------------+----------------------------------------+\n"
     ]
    }
   ],
   "source": [
    "client.get_models()"
   ]
  },
  {
   "attachments": {},
   "cell_type": "markdown",
   "metadata": {},
   "source": [
    "#### Select model"
   ]
  },
  {
   "cell_type": "code",
   "execution_count": 27,
   "metadata": {},
   "outputs": [
    {
     "name": "stdout",
     "output_type": "stream",
     "text": [
      "Model singleTableGC selected.\n"
     ]
    }
   ],
   "source": [
    "client.select_model('singleTableGC')"
   ]
  },
  {
   "attachments": {},
   "cell_type": "markdown",
   "metadata": {},
   "source": [
    "#### Run the synthetization"
   ]
  },
  {
   "cell_type": "code",
   "execution_count": 28,
   "metadata": {},
   "outputs": [
    {
     "name": "stdout",
     "output_type": "stream",
     "text": [
      "Synthetization Information:\n",
      "Project: test_project1 (ID: d5cfa4bc-942a-4b89-9cea-81d54979b1b9)\n",
      "Dataset: iris (ID: f2101284-125e-4924-89dd-803ec459fffa)\n",
      "Model: singleTableGC\n",
      "Configuration File: test_project1.yaml\n"
     ]
    },
    {
     "data": {
      "text/plain": [
       "'Synthetization triggered successfully!'"
      ]
     },
     "execution_count": 28,
     "metadata": {},
     "output_type": "execute_result"
    }
   ],
   "source": [
    "client.synthetize()"
   ]
  },
  {
   "cell_type": "code",
   "execution_count": 39,
   "metadata": {},
   "outputs": [
    {
     "name": "stdout",
     "output_type": "stream",
     "text": [
      "[{\"commit\":\"52f12abad1d16fa96dc4acec49d405a1bc88b645\",\"subject\":\"Committed new versions of experiment, time: 2023/07/21-10:01:25\"}]\n"
     ]
    }
   ],
   "source": [
    "client.list_commits()"
   ]
  },
  {
   "cell_type": "code",
   "execution_count": 40,
   "metadata": {},
   "outputs": [
    {
     "name": "stdout",
     "output_type": "stream",
     "text": [
      "Commit 52f12abad1d16fa96dc4acec49d405a1bc88b645 selected in project d5cfa4bc-942a-4b89-9cea-81d54979b1b9.\n"
     ]
    }
   ],
   "source": [
    "client.select_commit('52f12abad1d16fa96dc4acec49d405a1bc88b645')"
   ]
  },
  {
   "cell_type": "code",
   "execution_count": 41,
   "metadata": {},
   "outputs": [],
   "source": [
    "client.download_data('data_synth')"
   ]
  },
  {
   "cell_type": "code",
   "execution_count": null,
   "metadata": {},
   "outputs": [],
   "source": [
    "client.logout()"
   ]
  }
 ],
 "metadata": {
  "kernelspec": {
   "display_name": "Python 3 (ipykernel)",
   "language": "python",
   "name": "python3"
  },
  "language_info": {
   "codemirror_mode": {
    "name": "ipython",
    "version": 3
   },
   "file_extension": ".py",
   "mimetype": "text/x-python",
   "name": "python",
   "nbconvert_exporter": "python",
   "pygments_lexer": "ipython3",
   "version": "3.10.10"
  }
 },
 "nbformat": 4,
 "nbformat_minor": 2
}
