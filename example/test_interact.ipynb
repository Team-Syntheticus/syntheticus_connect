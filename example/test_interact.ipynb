{
 "cells": [
  {
   "cell_type": "code",
   "execution_count": 1,
   "metadata": {},
   "outputs": [],
   "source": [
    "import sys\n",
    "try:\n",
    "    sys.path.insert(0, '..')\n",
    "    from syntheticus_connect import syntheticus_interact\n",
    "except ImportError:\n",
    "    from syntheticus_connect import syntheticus_interact"
   ]
  },
  {
   "cell_type": "markdown",
   "metadata": {},
   "source": [
    "### Print installed library version"
   ]
  },
  {
   "cell_type": "code",
   "execution_count": null,
   "metadata": {},
   "outputs": [],
   "source": [
    "import syntheticus_connect"
   ]
  },
  {
   "cell_type": "code",
   "execution_count": null,
   "metadata": {},
   "outputs": [],
   "source": [
    "print(syntheticus_connect.__version__)"
   ]
  },
  {
   "cell_type": "markdown",
   "metadata": {},
   "source": [
    "### Intalization"
   ]
  },
  {
   "cell_type": "markdown",
   "metadata": {},
   "source": [
    "If the host variables are not privided to the constructor of the class or are not present in the environmental variable, the user will be presented with a value error that prompt to provide them"
   ]
  },
  {
   "cell_type": "code",
   "execution_count": null,
   "metadata": {},
   "outputs": [],
   "source": [
    "client = syntheticus_interact()"
   ]
  },
  {
   "cell_type": "markdown",
   "metadata": {},
   "source": [
    "how to use it when hosts are provided to the constructor. First django host second jupyterhub host"
   ]
  },
  {
   "cell_type": "code",
   "execution_count": 2,
   "metadata": {},
   "outputs": [],
   "source": [
    "client = syntheticus_interact(\"https://django.dev.syntheticus.ai\", \"https://airflow-webserver.dev.syntheticus.ai\")"
   ]
  },
  {
   "cell_type": "markdown",
   "metadata": {},
   "source": [
    "### Login"
   ]
  },
  {
   "cell_type": "code",
   "execution_count": null,
   "metadata": {},
   "outputs": [],
   "source": [
    "client.login_user()"
   ]
  },
  {
   "cell_type": "code",
   "execution_count": 3,
   "metadata": {},
   "outputs": [
    {
     "data": {
      "text/plain": [
       "'Login successful.'"
      ]
     },
     "execution_count": 3,
     "metadata": {},
     "output_type": "execute_result"
    }
   ],
   "source": [
    "client.login(\"valerio_syntheticus\",\"ZHG9uvg@hkg-qnc7yqn\")"
   ]
  },
  {
   "cell_type": "markdown",
   "metadata": {},
   "source": [
    "### Select projects"
   ]
  },
  {
   "cell_type": "code",
   "execution_count": 4,
   "metadata": {},
   "outputs": [
    {
     "name": "stdout",
     "output_type": "stream",
     "text": [
      "+--------------------------------------+----------------+--------------------------+\n",
      "| Project ID                           | Project Name   | Created At               |\n",
      "+======================================+================+==========================+\n",
      "| 761c1761-a1cf-4072-91bf-25527f6fa598 | demo           | 2023-11-20T16:05:57+0000 |\n",
      "+--------------------------------------+----------------+--------------------------+\n",
      "| f9813882-73b5-4bcc-923f-e853e6c21ded | demo2          | 2023-11-21T14:52:26+0000 |\n",
      "+--------------------------------------+----------------+--------------------------+\n",
      "| 002b1fef-aeb8-4693-8db3-b692ec8af988 | demo4          | 2023-11-21T15:53:30+0000 |\n",
      "+--------------------------------------+----------------+--------------------------+\n",
      "| 5d4a812f-c5a9-43f2-8cd3-b5355b9d4b62 | prova          | 2023-11-22T15:24:05+0000 |\n",
      "+--------------------------------------+----------------+--------------------------+\n",
      "| de00be46-9a9d-429e-877a-79ae409c6a93 | adcubum        | 2023-11-28T15:08:44+0000 |\n",
      "+--------------------------------------+----------------+--------------------------+\n"
     ]
    }
   ],
   "source": [
    "client.list_projects()"
   ]
  },
  {
   "cell_type": "code",
   "execution_count": 5,
   "metadata": {},
   "outputs": [
    {
     "data": {
      "application/vnd.jupyter.widget-view+json": {
       "model_id": "b32b6849d9e241b0b332b316e99e5d9b",
       "version_major": 2,
       "version_minor": 0
      },
      "text/plain": [
       "VBox(children=(Dropdown(description='Select:', layout=Layout(width='auto'), options=('ID: 761c1761-a1cf-4072-9…"
      ]
     },
     "metadata": {},
     "output_type": "display_data"
    }
   ],
   "source": [
    "client.project_select()"
   ]
  },
  {
   "cell_type": "code",
   "execution_count": 9,
   "metadata": {},
   "outputs": [
    {
     "data": {
      "text/plain": [
       "'de00be46-9a9d-429e-877a-79ae409c6a93'"
      ]
     },
     "execution_count": 9,
     "metadata": {},
     "output_type": "execute_result"
    }
   ],
   "source": [
    "client.project_id"
   ]
  },
  {
   "cell_type": "code",
   "execution_count": 10,
   "metadata": {},
   "outputs": [
    {
     "data": {
      "text/plain": [
       "'adcubum'"
      ]
     },
     "execution_count": 10,
     "metadata": {},
     "output_type": "execute_result"
    }
   ],
   "source": [
    "client.project_name"
   ]
  },
  {
   "cell_type": "markdown",
   "metadata": {},
   "source": [
    "### Create and delete projects"
   ]
  },
  {
   "cell_type": "markdown",
   "metadata": {},
   "source": [
    "call the method with one argument: project name."
   ]
  },
  {
   "cell_type": "code",
   "execution_count": null,
   "metadata": {},
   "outputs": [],
   "source": [
    "client.create_project('adcubum')"
   ]
  },
  {
   "cell_type": "code",
   "execution_count": null,
   "metadata": {},
   "outputs": [],
   "source": [
    "client.delete_project(\"8084f1db-8785-4995-a157-dbb33a8e51ff\")"
   ]
  },
  {
   "cell_type": "markdown",
   "metadata": {},
   "source": [
    "### Upload dataset"
   ]
  },
  {
   "cell_type": "code",
   "execution_count": 12,
   "metadata": {},
   "outputs": [],
   "source": [
    "import pandas as pd"
   ]
  },
  {
   "cell_type": "code",
   "execution_count": 25,
   "metadata": {},
   "outputs": [
    {
     "name": "stderr",
     "output_type": "stream",
     "text": [
      "C:\\Users\\mazzo\\AppData\\Local\\Temp\\ipykernel_9036\\2814887546.py:1: DtypeWarning: Columns (25,28,63) have mixed types. Specify dtype option on import or set low_memory=False.\n",
      "  tarifziffer = pd.read_csv(\"../dataset/adcubum/tarifziffer/tarifziffer.csv\")\n"
     ]
    }
   ],
   "source": [
    "tarifziffer = pd.read_csv(\"../dataset/adcubum/tarifziffer/tarifziffer.csv\")"
   ]
  },
  {
   "cell_type": "code",
   "execution_count": 35,
   "metadata": {},
   "outputs": [
    {
     "data": {
      "text/html": [
       "<div>\n",
       "<style scoped>\n",
       "    .dataframe tbody tr th:only-of-type {\n",
       "        vertical-align: middle;\n",
       "    }\n",
       "\n",
       "    .dataframe tbody tr th {\n",
       "        vertical-align: top;\n",
       "    }\n",
       "\n",
       "    .dataframe thead th {\n",
       "        text-align: right;\n",
       "    }\n",
       "</style>\n",
       "<table border=\"1\" class=\"dataframe\">\n",
       "  <thead>\n",
       "    <tr style=\"text-align: right;\">\n",
       "      <th></th>\n",
       "      <th>PKEY</th>\n",
       "      <th>BOID</th>\n",
       "      <th>METABO</th>\n",
       "      <th>LASTUPDATE</th>\n",
       "      <th>PROCESSID</th>\n",
       "      <th>CREATED</th>\n",
       "      <th>BIZCREATED</th>\n",
       "      <th>CREATEDUSER</th>\n",
       "      <th>BIZUSER</th>\n",
       "      <th>REPLACED</th>\n",
       "      <th>...</th>\n",
       "      <th>DRG_CWH_GEB</th>\n",
       "      <th>DRG_LTP_CWD_GEB</th>\n",
       "      <th>DRG_HTP_CWD_GEB</th>\n",
       "      <th>DRG_EXTVERLAB_GEB</th>\n",
       "      <th>TAEL_ID</th>\n",
       "      <th>ZIFFERKOA</th>\n",
       "      <th>ZIFFERKOAOVR</th>\n",
       "      <th>TZIMPORTMODE</th>\n",
       "      <th>TIMESEG</th>\n",
       "      <th>FACTOR_MAX</th>\n",
       "    </tr>\n",
       "  </thead>\n",
       "  <tbody>\n",
       "    <tr>\n",
       "      <th>0</th>\n",
       "      <td>23</td>\n",
       "      <td>16</td>\n",
       "      <td>-1082</td>\n",
       "      <td>2014-01-16 15:40:44.238490000</td>\n",
       "      <td>B.107</td>\n",
       "      <td>2014-01-16 15:40:44.238490000</td>\n",
       "      <td>2014-01-16 15:40:44.238490000</td>\n",
       "      <td>CHaegele</td>\n",
       "      <td>CHaegele</td>\n",
       "      <td>3000-01-01 00:00:00.000000000</td>\n",
       "      <td>...</td>\n",
       "      <td>NaN</td>\n",
       "      <td>NaN</td>\n",
       "      <td>NaN</td>\n",
       "      <td>NaN</td>\n",
       "      <td>5009964.0</td>\n",
       "      <td>NaN</td>\n",
       "      <td>0</td>\n",
       "      <td>-62572</td>\n",
       "      <td>3000-01-01</td>\n",
       "      <td>NaN</td>\n",
       "    </tr>\n",
       "    <tr>\n",
       "      <th>1</th>\n",
       "      <td>24</td>\n",
       "      <td>8</td>\n",
       "      <td>-1082</td>\n",
       "      <td>2014-01-16 15:40:44.280288000</td>\n",
       "      <td>B.107</td>\n",
       "      <td>2014-01-16 15:40:44.280288000</td>\n",
       "      <td>2014-01-16 15:40:44.280288000</td>\n",
       "      <td>CHaegele</td>\n",
       "      <td>CHaegele</td>\n",
       "      <td>3000-01-01 00:00:00.000000000</td>\n",
       "      <td>...</td>\n",
       "      <td>NaN</td>\n",
       "      <td>NaN</td>\n",
       "      <td>NaN</td>\n",
       "      <td>NaN</td>\n",
       "      <td>5009965.0</td>\n",
       "      <td>NaN</td>\n",
       "      <td>0</td>\n",
       "      <td>-62572</td>\n",
       "      <td>3000-01-01</td>\n",
       "      <td>NaN</td>\n",
       "    </tr>\n",
       "    <tr>\n",
       "      <th>2</th>\n",
       "      <td>25</td>\n",
       "      <td>17</td>\n",
       "      <td>-1082</td>\n",
       "      <td>2014-01-16 15:40:44.325209000</td>\n",
       "      <td>B.107</td>\n",
       "      <td>2014-01-16 15:40:44.325209000</td>\n",
       "      <td>2014-01-16 15:40:44.325209000</td>\n",
       "      <td>CHaegele</td>\n",
       "      <td>CHaegele</td>\n",
       "      <td>3000-01-01 00:00:00.000000000</td>\n",
       "      <td>...</td>\n",
       "      <td>NaN</td>\n",
       "      <td>NaN</td>\n",
       "      <td>NaN</td>\n",
       "      <td>NaN</td>\n",
       "      <td>5009966.0</td>\n",
       "      <td>NaN</td>\n",
       "      <td>0</td>\n",
       "      <td>-62572</td>\n",
       "      <td>3000-01-01</td>\n",
       "      <td>NaN</td>\n",
       "    </tr>\n",
       "    <tr>\n",
       "      <th>3</th>\n",
       "      <td>26</td>\n",
       "      <td>14</td>\n",
       "      <td>-1082</td>\n",
       "      <td>2014-01-16 15:40:44.366958000</td>\n",
       "      <td>B.107</td>\n",
       "      <td>2014-01-16 15:40:44.366958000</td>\n",
       "      <td>2014-01-16 15:40:44.366958000</td>\n",
       "      <td>CHaegele</td>\n",
       "      <td>CHaegele</td>\n",
       "      <td>3000-01-01 00:00:00.000000000</td>\n",
       "      <td>...</td>\n",
       "      <td>NaN</td>\n",
       "      <td>NaN</td>\n",
       "      <td>NaN</td>\n",
       "      <td>NaN</td>\n",
       "      <td>5009967.0</td>\n",
       "      <td>NaN</td>\n",
       "      <td>0</td>\n",
       "      <td>-62572</td>\n",
       "      <td>3000-01-01</td>\n",
       "      <td>NaN</td>\n",
       "    </tr>\n",
       "    <tr>\n",
       "      <th>4</th>\n",
       "      <td>27</td>\n",
       "      <td>10</td>\n",
       "      <td>-1082</td>\n",
       "      <td>2014-01-16 15:40:44.406095000</td>\n",
       "      <td>B.107</td>\n",
       "      <td>2014-01-16 15:40:44.406095000</td>\n",
       "      <td>2014-01-16 15:40:44.406095000</td>\n",
       "      <td>CHaegele</td>\n",
       "      <td>CHaegele</td>\n",
       "      <td>3000-01-01 00:00:00.000000000</td>\n",
       "      <td>...</td>\n",
       "      <td>NaN</td>\n",
       "      <td>NaN</td>\n",
       "      <td>NaN</td>\n",
       "      <td>NaN</td>\n",
       "      <td>5009968.0</td>\n",
       "      <td>NaN</td>\n",
       "      <td>0</td>\n",
       "      <td>-62572</td>\n",
       "      <td>3000-01-01</td>\n",
       "      <td>NaN</td>\n",
       "    </tr>\n",
       "  </tbody>\n",
       "</table>\n",
       "<p>5 rows × 67 columns</p>\n",
       "</div>"
      ],
      "text/plain": [
       "   PKEY  BOID  METABO                     LASTUPDATE PROCESSID  \\\n",
       "0    23    16   -1082  2014-01-16 15:40:44.238490000     B.107   \n",
       "1    24     8   -1082  2014-01-16 15:40:44.280288000     B.107   \n",
       "2    25    17   -1082  2014-01-16 15:40:44.325209000     B.107   \n",
       "3    26    14   -1082  2014-01-16 15:40:44.366958000     B.107   \n",
       "4    27    10   -1082  2014-01-16 15:40:44.406095000     B.107   \n",
       "\n",
       "                         CREATED                     BIZCREATED CREATEDUSER  \\\n",
       "0  2014-01-16 15:40:44.238490000  2014-01-16 15:40:44.238490000    CHaegele   \n",
       "1  2014-01-16 15:40:44.280288000  2014-01-16 15:40:44.280288000    CHaegele   \n",
       "2  2014-01-16 15:40:44.325209000  2014-01-16 15:40:44.325209000    CHaegele   \n",
       "3  2014-01-16 15:40:44.366958000  2014-01-16 15:40:44.366958000    CHaegele   \n",
       "4  2014-01-16 15:40:44.406095000  2014-01-16 15:40:44.406095000    CHaegele   \n",
       "\n",
       "    BIZUSER                       REPLACED  ... DRG_CWH_GEB DRG_LTP_CWD_GEB  \\\n",
       "0  CHaegele  3000-01-01 00:00:00.000000000  ...         NaN             NaN   \n",
       "1  CHaegele  3000-01-01 00:00:00.000000000  ...         NaN             NaN   \n",
       "2  CHaegele  3000-01-01 00:00:00.000000000  ...         NaN             NaN   \n",
       "3  CHaegele  3000-01-01 00:00:00.000000000  ...         NaN             NaN   \n",
       "4  CHaegele  3000-01-01 00:00:00.000000000  ...         NaN             NaN   \n",
       "\n",
       "  DRG_HTP_CWD_GEB DRG_EXTVERLAB_GEB    TAEL_ID ZIFFERKOA ZIFFERKOAOVR  \\\n",
       "0             NaN               NaN  5009964.0       NaN            0   \n",
       "1             NaN               NaN  5009965.0       NaN            0   \n",
       "2             NaN               NaN  5009966.0       NaN            0   \n",
       "3             NaN               NaN  5009967.0       NaN            0   \n",
       "4             NaN               NaN  5009968.0       NaN            0   \n",
       "\n",
       "  TZIMPORTMODE     TIMESEG FACTOR_MAX  \n",
       "0       -62572  3000-01-01        NaN  \n",
       "1       -62572  3000-01-01        NaN  \n",
       "2       -62572  3000-01-01        NaN  \n",
       "3       -62572  3000-01-01        NaN  \n",
       "4       -62572  3000-01-01        NaN  \n",
       "\n",
       "[5 rows x 67 columns]"
      ]
     },
     "execution_count": 35,
     "metadata": {},
     "output_type": "execute_result"
    }
   ],
   "source": [
    "tarifziffer.head()"
   ]
  },
  {
   "cell_type": "code",
   "execution_count": 34,
   "metadata": {},
   "outputs": [],
   "source": [
    "tarifziffer.drop('Unnamed: 0', axis=1, inplace=True)"
   ]
  },
  {
   "cell_type": "code",
   "execution_count": 36,
   "metadata": {},
   "outputs": [],
   "source": [
    "tarifziffer.to_csv('../dataset/adcubum/tarifziffer/tarfiziffer_def.csv', index=False)"
   ]
  },
  {
   "cell_type": "code",
   "execution_count": 39,
   "metadata": {},
   "outputs": [
    {
     "name": "stdout",
     "output_type": "stream",
     "text": [
      "Files uploaded successfully.\n"
     ]
    }
   ],
   "source": [
    "file_names = [\"tarfiziffer.csv\", \"metadata.json\"]\n",
    "folder_path = \"../dataset/adcubum/tarifziffer\"\n",
    "dataset_name = 'tarifziffer'\n",
    "\n",
    "client.upload_data(dataset_name = dataset_name ,folder_path=folder_path, file_names=file_names)"
   ]
  },
  {
   "cell_type": "markdown",
   "metadata": {},
   "source": [
    "### Select a dataset within a project"
   ]
  },
  {
   "cell_type": "code",
   "execution_count": 40,
   "metadata": {},
   "outputs": [
    {
     "data": {
      "application/vnd.jupyter.widget-view+json": {
       "model_id": "e5588aa1d5bf4d6a97bb80f00fc6ce2b",
       "version_major": 2,
       "version_minor": 0
      },
      "text/plain": [
       "VBox(children=(Dropdown(description='Select:', layout=Layout(width='auto'), options=('Select a dataset',), val…"
      ]
     },
     "metadata": {},
     "output_type": "display_data"
    }
   ],
   "source": [
    "client.dataset_select()"
   ]
  },
  {
   "cell_type": "markdown",
   "metadata": {},
   "source": [
    "### Upload the configuration file"
   ]
  },
  {
   "cell_type": "markdown",
   "metadata": {},
   "source": [
    "Update a basic configuration file to the project, a copy of the file will be save at the same level of the notebook."
   ]
  },
  {
   "cell_type": "code",
   "execution_count": null,
   "metadata": {},
   "outputs": [],
   "source": [
    "client.upload_conf()"
   ]
  },
  {
   "cell_type": "markdown",
   "metadata": {},
   "source": [
    "Update the configation file then use this method to send it to the project folder"
   ]
  },
  {
   "cell_type": "code",
   "execution_count": null,
   "metadata": {},
   "outputs": [],
   "source": [
    "client.update_conf()"
   ]
  },
  {
   "cell_type": "markdown",
   "metadata": {},
   "source": [
    "### Select a synthetization model"
   ]
  },
  {
   "cell_type": "code",
   "execution_count": null,
   "metadata": {},
   "outputs": [],
   "source": [
    "client.model_select()"
   ]
  },
  {
   "cell_type": "markdown",
   "metadata": {},
   "source": [
    "### Show the status of the setup"
   ]
  },
  {
   "cell_type": "code",
   "execution_count": 11,
   "metadata": {},
   "outputs": [
    {
     "name": "stdout",
     "output_type": "stream",
     "text": [
      "Current Setup Information:\n",
      "Project ID: de00be46-9a9d-429e-877a-79ae409c6a93\n",
      "Project Name: adcubum\n",
      "Dataset ID: Not Set\n",
      "Model ID: Not Set\n",
      "Dataset Name: Not Set\n",
      "Config File Path: Not Set\n",
      "Commit ID: Not Set\n"
     ]
    }
   ],
   "source": [
    "client.show_setup()"
   ]
  },
  {
   "cell_type": "markdown",
   "metadata": {},
   "source": [
    "### Fit the model"
   ]
  },
  {
   "cell_type": "code",
   "execution_count": null,
   "metadata": {},
   "outputs": [],
   "source": [
    "client.synthetize()"
   ]
  },
  {
   "cell_type": "markdown",
   "metadata": {},
   "source": [
    "### Select an experiment"
   ]
  },
  {
   "cell_type": "code",
   "execution_count": null,
   "metadata": {},
   "outputs": [],
   "source": [
    "client.experiment_select()"
   ]
  },
  {
   "cell_type": "markdown",
   "metadata": {},
   "source": [
    "### Download"
   ]
  },
  {
   "cell_type": "markdown",
   "metadata": {},
   "source": [
    "folders that can be downloaded:\n",
    "        'data_orig',\n",
    "        'data_synth',\n",
    "        'data_transform', \n",
    "        'report', \n",
    "        'models',\n",
    "        'config',\n",
    "        'metadata'"
   ]
  },
  {
   "cell_type": "code",
   "execution_count": null,
   "metadata": {},
   "outputs": [],
   "source": [
    "client.download_data('data_orig')"
   ]
  },
  {
   "cell_type": "markdown",
   "metadata": {},
   "source": [
    "### Reset the session"
   ]
  },
  {
   "cell_type": "code",
   "execution_count": null,
   "metadata": {},
   "outputs": [],
   "source": [
    "client.reset()"
   ]
  }
 ],
 "metadata": {
  "kernelspec": {
   "display_name": "base",
   "language": "python",
   "name": "python3"
  },
  "language_info": {
   "codemirror_mode": {
    "name": "ipython",
    "version": 3
   },
   "file_extension": ".py",
   "mimetype": "text/x-python",
   "name": "python",
   "nbconvert_exporter": "python",
   "pygments_lexer": "ipython3",
   "version": "3.10.10"
  },
  "orig_nbformat": 4
 },
 "nbformat": 4,
 "nbformat_minor": 2
}
