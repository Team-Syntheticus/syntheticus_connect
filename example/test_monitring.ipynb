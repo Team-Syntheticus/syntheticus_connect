{
 "cells": [
  {
   "cell_type": "code",
   "execution_count": 1,
   "metadata": {},
   "outputs": [],
   "source": [
    "import sys\n",
    "try:\n",
    "    sys.path.insert(0, '..')\n",
    "    from syntheticus_connect import syntheticus_interact\n",
    "except ImportError:\n",
    "    from syntheticus_connect import syntheticus_interact"
   ]
  },
  {
   "cell_type": "markdown",
   "metadata": {},
   "source": [
    "### Print installed library version"
   ]
  },
  {
   "cell_type": "code",
   "execution_count": 2,
   "metadata": {},
   "outputs": [],
   "source": [
    "import syntheticus_connect"
   ]
  },
  {
   "cell_type": "code",
   "execution_count": 3,
   "metadata": {},
   "outputs": [
    {
     "name": "stdout",
     "output_type": "stream",
     "text": [
      "0.2.5\n"
     ]
    }
   ],
   "source": [
    "print(syntheticus_connect.__version__)"
   ]
  },
  {
   "cell_type": "markdown",
   "metadata": {},
   "source": [
    "### Intalization"
   ]
  },
  {
   "cell_type": "markdown",
   "metadata": {},
   "source": [
    "If the host variables are not privided to the constructor of the class or are not present in the environmental variable, the user will be presented with a value error that prompt to provide them"
   ]
  },
  {
   "cell_type": "code",
   "execution_count": 5,
   "metadata": {},
   "outputs": [
    {
     "ename": "ValueError",
     "evalue": "Host DJANGO_URL must be provided, either as environment variables or directly as arguments",
     "output_type": "error",
     "traceback": [
      "\u001b[1;31m---------------------------------------------------------------------------\u001b[0m",
      "\u001b[1;31mValueError\u001b[0m                                Traceback (most recent call last)",
      "\u001b[1;32mc:\\Users\\mazzo\\Documents\\SyntheticusConnect\\example\\test_interact.ipynb Cell 7\u001b[0m line \u001b[0;36m1\n\u001b[1;32m----> <a href='vscode-notebook-cell:/c%3A/Users/mazzo/Documents/SyntheticusConnect/example/test_interact.ipynb#W6sZmlsZQ%3D%3D?line=0'>1</a>\u001b[0m client \u001b[39m=\u001b[39m syntheticus_interact()\n",
      "File \u001b[1;32mc:\\Users\\mazzo\\Documents\\SyntheticusConnect\\example\\..\\syntheticus_connect\\syntheticus_interact.py:9\u001b[0m, in \u001b[0;36msyntheticus_interact.__init__\u001b[1;34m(self, host_django, host_airflow)\u001b[0m\n\u001b[0;32m      8\u001b[0m \u001b[39mdef\u001b[39;00m \u001b[39m__init__\u001b[39m(\u001b[39mself\u001b[39m, host_django\u001b[39m=\u001b[39m\u001b[39mNone\u001b[39;00m, host_airflow\u001b[39m=\u001b[39m\u001b[39mNone\u001b[39;00m):\n\u001b[1;32m----> 9\u001b[0m     \u001b[39msuper\u001b[39;49m()\u001b[39m.\u001b[39;49m\u001b[39m__init__\u001b[39;49m(host_django, host_airflow)\n",
      "File \u001b[1;32mc:\\Users\\mazzo\\Documents\\SyntheticusConnect\\example\\..\\syntheticus_connect\\syntheticus_client.py:82\u001b[0m, in \u001b[0;36msyntheticus_client.__init__\u001b[1;34m(self, host_django, host_airflow)\u001b[0m\n\u001b[0;32m     79\u001b[0m \u001b[39mself\u001b[39m\u001b[39m.\u001b[39mhost_airflow \u001b[39m=\u001b[39m host_airflow \u001b[39mor\u001b[39;00m os\u001b[39m.\u001b[39mgetenv(\u001b[39m'\u001b[39m\u001b[39mAIRFLOW_URL\u001b[39m\u001b[39m'\u001b[39m)\n\u001b[0;32m     81\u001b[0m \u001b[39mif\u001b[39;00m \u001b[39mnot\u001b[39;00m \u001b[39mself\u001b[39m\u001b[39m.\u001b[39mhost_django:\n\u001b[1;32m---> 82\u001b[0m     \u001b[39mraise\u001b[39;00m \u001b[39mValueError\u001b[39;00m(\u001b[39m\"\u001b[39m\u001b[39mHost DJANGO_URL must be provided, either as environment variables or directly as arguments\u001b[39m\u001b[39m\"\u001b[39m)\n\u001b[0;32m     84\u001b[0m \u001b[39mself\u001b[39m\u001b[39m.\u001b[39mtoken \u001b[39m=\u001b[39m os\u001b[39m.\u001b[39mgetenv(\u001b[39m'\u001b[39m\u001b[39mUSER_TOKEN\u001b[39m\u001b[39m'\u001b[39m)\n\u001b[0;32m     85\u001b[0m \u001b[39mif\u001b[39;00m \u001b[39mnot\u001b[39;00m \u001b[39mself\u001b[39m\u001b[39m.\u001b[39mtoken:\n",
      "\u001b[1;31mValueError\u001b[0m: Host DJANGO_URL must be provided, either as environment variables or directly as arguments"
     ]
    }
   ],
   "source": [
    "client = syntheticus_interact()"
   ]
  },
  {
   "cell_type": "markdown",
   "metadata": {},
   "source": [
    "how to use it when hosts are provided to the constructor. First django host second jupyterhub host"
   ]
  },
  {
   "cell_type": "code",
   "execution_count": 5,
   "metadata": {},
   "outputs": [
    {
     "name": "stdout",
     "output_type": "stream",
     "text": [
      "Warning: User token not found. Proceed with login after initialization.\n"
     ]
    }
   ],
   "source": [
    "client = syntheticus_interact(\"https://django.syntheticus.ai\", \"https://airflow-webserver.syntheticus.ai\")"
   ]
  },
  {
   "cell_type": "markdown",
   "metadata": {},
   "source": [
    "### Login"
   ]
  },
  {
   "cell_type": "code",
   "execution_count": null,
   "metadata": {},
   "outputs": [],
   "source": [
    "client.login_user()"
   ]
  },
  {
   "cell_type": "code",
   "execution_count": 6,
   "metadata": {},
   "outputs": [
    {
     "data": {
      "text/plain": [
       "'Login successful.'"
      ]
     },
     "execution_count": 6,
     "metadata": {},
     "output_type": "execute_result"
    }
   ],
   "source": [
    "client.login(\"valerio_syntheticus\",\"ZHG9uvg@hkg-qnc7yqn\")"
   ]
  },
  {
   "cell_type": "markdown",
   "metadata": {},
   "source": [
    "### Select projects"
   ]
  },
  {
   "cell_type": "code",
   "execution_count": null,
   "metadata": {},
   "outputs": [],
   "source": [
    "client.list_projects()"
   ]
  },
  {
   "cell_type": "code",
   "execution_count": 9,
   "metadata": {},
   "outputs": [
    {
     "data": {
      "application/vnd.jupyter.widget-view+json": {
       "model_id": "417237c850e0401fa654edd0c08e10fd",
       "version_major": 2,
       "version_minor": 0
      },
      "text/plain": [
       "VBox(children=(Dropdown(description='Select:', layout=Layout(width='auto'), options=('ID: 79e0268b-b110-4c20-8…"
      ]
     },
     "metadata": {},
     "output_type": "display_data"
    }
   ],
   "source": [
    "client.project_select()"
   ]
  },
  {
   "cell_type": "markdown",
   "metadata": {},
   "source": [
    "### Create and delete projects"
   ]
  },
  {
   "cell_type": "markdown",
   "metadata": {},
   "source": [
    "call the method with one argument: project name."
   ]
  },
  {
   "cell_type": "code",
   "execution_count": null,
   "metadata": {},
   "outputs": [],
   "source": [
    "client.create_project('adcubum')"
   ]
  },
  {
   "cell_type": "code",
   "execution_count": null,
   "metadata": {},
   "outputs": [],
   "source": [
    "client.delete_project(\"8084f1db-8785-4995-a157-dbb33a8e51ff\")"
   ]
  },
  {
   "cell_type": "markdown",
   "metadata": {},
   "source": [
    "### Upload dataset"
   ]
  },
  {
   "cell_type": "code",
   "execution_count": null,
   "metadata": {},
   "outputs": [],
   "source": [
    "def extract_metadata(dataframe):\n",
    "    metadata = {\"fields\": {}}\n",
    "    \n",
    "    for column in dataframe.columns:\n",
    "        # Determine the type of the column\n",
    "        if dataframe[column].dtype == 'float64':\n",
    "            column_type = 'numerical'\n",
    "            subtype = 'float'\n",
    "        elif dataframe[column].dtype == 'int64':\n",
    "            column_type = 'numerical'\n",
    "            subtype = 'integer'\n",
    "        else:\n",
    "            column_type = 'categorical'\n",
    "            subtype = None\n",
    "\n",
    "        # Add the column information to the metadata\n",
    "        if subtype:\n",
    "            metadata['fields'][column] = {'type': column_type, 'subtype': subtype}\n",
    "        else:\n",
    "            metadata['fields'][column] = {'type': column_type}\n",
    "\n",
    "    return metadata"
   ]
  },
  {
   "cell_type": "code",
   "execution_count": null,
   "metadata": {},
   "outputs": [],
   "source": [
    "metadata = extract_metadata()"
   ]
  },
  {
   "cell_type": "code",
   "execution_count": 14,
   "metadata": {},
   "outputs": [
    {
     "name": "stdout",
     "output_type": "stream",
     "text": [
      "Files uploaded successfully.\n"
     ]
    }
   ],
   "source": [
    "file_names = [\"iris.csv\", \"metadata.json\"]\n",
    "folder_path = \"../dataset\"\n",
    "dataset_name = 'iris_2'\n",
    "\n",
    "client.upload_data(dataset_name = dataset_name ,folder_path=folder_path, file_names=file_names)"
   ]
  },
  {
   "cell_type": "markdown",
   "metadata": {},
   "source": [
    "### Select a dataset within a project"
   ]
  },
  {
   "cell_type": "code",
   "execution_count": 10,
   "metadata": {},
   "outputs": [
    {
     "data": {
      "application/vnd.jupyter.widget-view+json": {
       "model_id": "7daa969d2bc44006ba2ffea1643c18fa",
       "version_major": 2,
       "version_minor": 0
      },
      "text/plain": [
       "VBox(children=(Dropdown(description='Select:', layout=Layout(width='auto'), options=('Select a dataset', 'ID: …"
      ]
     },
     "metadata": {},
     "output_type": "display_data"
    }
   ],
   "source": [
    "client.dataset_select()"
   ]
  },
  {
   "cell_type": "markdown",
   "metadata": {},
   "source": [
    "### Upload the configuration file"
   ]
  },
  {
   "cell_type": "markdown",
   "metadata": {},
   "source": [
    "Update a basic configuration file to the project, a copy of the file will be save at the same level of the notebook."
   ]
  },
  {
   "cell_type": "code",
   "execution_count": null,
   "metadata": {},
   "outputs": [],
   "source": [
    "client.upload_conf()"
   ]
  },
  {
   "cell_type": "markdown",
   "metadata": {},
   "source": [
    "Update the configation file then use this method to send it to the project folder"
   ]
  },
  {
   "cell_type": "code",
   "execution_count": null,
   "metadata": {},
   "outputs": [],
   "source": [
    "client.update_conf()"
   ]
  },
  {
   "cell_type": "markdown",
   "metadata": {},
   "source": [
    "### Select a synthetization model"
   ]
  },
  {
   "cell_type": "code",
   "execution_count": 11,
   "metadata": {},
   "outputs": [
    {
     "data": {
      "application/vnd.jupyter.widget-view+json": {
       "model_id": "ee3b19eaa7ae42b4b42038d5bde19ac0",
       "version_major": 2,
       "version_minor": 0
      },
      "text/plain": [
       "VBox(children=(Dropdown(description='Select:', layout=Layout(width='auto'), options=('Select a model', 'Name: …"
      ]
     },
     "metadata": {},
     "output_type": "display_data"
    }
   ],
   "source": [
    "client.model_select()"
   ]
  },
  {
   "cell_type": "markdown",
   "metadata": {},
   "source": [
    "### Show the status of the setup"
   ]
  },
  {
   "cell_type": "code",
   "execution_count": 11,
   "metadata": {},
   "outputs": [
    {
     "name": "stdout",
     "output_type": "stream",
     "text": [
      "Current Setup Information:\n",
      "Project ID: 79e0268b-b110-4c20-8c68-f4216138421e\n",
      "Project Name: demo\n",
      "Dataset ID: 97ad9c39-cc56-4041-a847-0eac9749161d\n",
      "Model ID: singleTableGC\n",
      "Dataset Name: iris\n",
      "Config File Path: Not Set\n",
      "Commit ID: Not Set\n"
     ]
    }
   ],
   "source": [
    "client.show_setup()"
   ]
  },
  {
   "cell_type": "markdown",
   "metadata": {},
   "source": [
    "### Fit the model"
   ]
  },
  {
   "cell_type": "code",
   "execution_count": 12,
   "metadata": {},
   "outputs": [
    {
     "name": "stdout",
     "output_type": "stream",
     "text": [
      "Synthesis Information:\n",
      "Project: demo (ID: 79e0268b-b110-4c20-8c68-f4216138421e)\n",
      "Dataset: iris (ID: 97ad9c39-cc56-4041-a847-0eac9749161d)\n",
      "Model: singleTableGC\n",
      "Configuration File: None\n"
     ]
    },
    {
     "data": {
      "text/plain": [
       "'Synthesis triggered successfully!'"
      ]
     },
     "execution_count": 12,
     "metadata": {},
     "output_type": "execute_result"
    },
    {
     "name": "stdout",
     "output_type": "stream",
     "text": [
      "{'detail': None, 'status': 401, 'title': 'Unauthorized', 'type': 'https://airflow.apache.org/docs/apache-airflow/2.4.1/stable-rest-api-ref.html#section/Errors/Unauthenticated'}\n"
     ]
    }
   ],
   "source": [
    "client.synthetize()"
   ]
  },
  {
   "cell_type": "markdown",
   "metadata": {},
   "source": [
    "### Select an experiment"
   ]
  },
  {
   "cell_type": "code",
   "execution_count": null,
   "metadata": {},
   "outputs": [],
   "source": [
    "client.experiment_select()"
   ]
  },
  {
   "cell_type": "code",
   "execution_count": 7,
   "metadata": {},
   "outputs": [
    {
     "name": "stdout",
     "output_type": "stream",
     "text": [
      "{'conf': {'main_data_dir': './media/', 'project_name': '79e0268b-b110-4c20-8c68-f4216138421e'}, 'dag_id': 'singleTableGC', 'dag_run_id': '79e0268b-b110-4c20-8c68-f4216138421e_2023-12-18 11:55:22', 'data_interval_end': '2023-12-18T10:55:22.955225+00:00', 'data_interval_start': '2023-12-18T10:55:22.955225+00:00', 'end_date': '2023-12-18T10:57:01.360598+00:00', 'execution_date': '2023-12-18T10:55:22.955225+00:00', 'external_trigger': True, 'last_scheduling_decision': '2023-12-18T10:57:01.271171+00:00', 'logical_date': '2023-12-18T10:55:22.955225+00:00', 'run_type': 'manual', 'start_date': '2023-12-18T10:55:23.465103+00:00', 'state': 'success'}\n"
     ]
    }
   ],
   "source": [
    "import requests\n",
    "from requests.auth import HTTPBasicAuth\n",
    "\n",
    "url = \"https://airflow-webserver.syntheticus.ai/api/v1/dags/singleTableGC/dagRuns/79e0268b-b110-4c20-8c68-f4216138421e_2023-12-18%2011:55:22\"\n",
    "response = requests.get(url, auth=HTTPBasicAuth('airflow', 'airflow'))\n",
    "\n",
    "print(response.json())"
   ]
  },
  {
   "cell_type": "code",
   "execution_count": 5,
   "metadata": {},
   "outputs": [
    {
     "data": {
      "text/plain": [
       "<Response [401]>"
      ]
     },
     "execution_count": 5,
     "metadata": {},
     "output_type": "execute_result"
    }
   ],
   "source": [
    "response"
   ]
  },
  {
   "cell_type": "markdown",
   "metadata": {},
   "source": [
    "### Download"
   ]
  },
  {
   "cell_type": "markdown",
   "metadata": {},
   "source": [
    "folders that can be downloaded:\n",
    "        'data_orig',\n",
    "        'data_synth',\n",
    "        'data_transform', \n",
    "        'report', \n",
    "        'models',\n",
    "        'config',\n",
    "        'metadata'"
   ]
  },
  {
   "cell_type": "code",
   "execution_count": null,
   "metadata": {},
   "outputs": [],
   "source": [
    "client.download_data('data_orig')"
   ]
  },
  {
   "cell_type": "markdown",
   "metadata": {},
   "source": [
    "### Reset the session"
   ]
  },
  {
   "cell_type": "code",
   "execution_count": null,
   "metadata": {},
   "outputs": [],
   "source": [
    "client.reset()"
   ]
  }
 ],
 "metadata": {
  "kernelspec": {
   "display_name": "base",
   "language": "python",
   "name": "python3"
  },
  "language_info": {
   "codemirror_mode": {
    "name": "ipython",
    "version": 3
   },
   "file_extension": ".py",
   "mimetype": "text/x-python",
   "name": "python",
   "nbconvert_exporter": "python",
   "pygments_lexer": "ipython3",
   "version": "3.10.10"
  },
  "orig_nbformat": 4
 },
 "nbformat": 4,
 "nbformat_minor": 2
}
